{
 "metadata": {
  "language_info": {
   "codemirror_mode": {
    "name": "ipython",
    "version": 3
   },
   "file_extension": ".py",
   "mimetype": "text/x-python",
   "name": "python",
   "nbconvert_exporter": "python",
   "pygments_lexer": "ipython3",
   "version": "3.8.5"
  },
  "orig_nbformat": 2,
  "kernelspec": {
   "name": "python385jvsc74a57bd031f2aee4e71d21fbe5cf8b01ff0e069b9275f58929596ceb00d14d90e3e16cd6",
   "display_name": "Python 3.8.5 64-bit"
  },
  "metadata": {
   "interpreter": {
    "hash": "31f2aee4e71d21fbe5cf8b01ff0e069b9275f58929596ceb00d14d90e3e16cd6"
   }
  }
 },
 "nbformat": 4,
 "nbformat_minor": 2,
 "cells": [
  {
   "source": [
    "# IT Academy - Data Science with Python\n",
    "## Sprint 16: Web Scraping (In Process)\n",
    "### [Github Web Scraping](https://github.com/jesussantana/Web-Scraping)\n",
    "\n",
    "[![forthebadge made-with-python](http://ForTheBadge.com/images/badges/made-with-python.svg)](https://www.python.org/)  \n",
    "[![Made withJupyter](https://img.shields.io/badge/Made%20with-Jupyter-orange?style=for-the-badge&logo=Jupyter)](https://jupyter.org/try)  \n",
    "[![wakatime](https://wakatime.com/badge/github/jesussantana/Web-Scraping.svg)](https://wakatime.com/badge/github/jesussantana/Web-Scraping)"
   ],
   "cell_type": "markdown",
   "metadata": {}
  },
  {
   "source": [
    "### Exercise 1: \n",
    "  - Perform web scraping of a page on the Madrid Stock Exchange (https://www.bolsamadrid.es) using BeautifulSoup and Selenium."
   ],
   "cell_type": "markdown",
   "metadata": {}
  },
  {
   "cell_type": "code",
   "execution_count": 1,
   "metadata": {},
   "outputs": [
    {
     "output_type": "execute_result",
     "data": {
      "text/plain": [
       "          Nombre      Últ. % Dif.      Máx.      Mín.     Volumen  \\\n",
       "0        ACCIONA  138,4000  -2,47  142,2000  138,2000      33.994   \n",
       "1       ACERINOX   11,7550   0,51   11,8350   11,7050     627.829   \n",
       "2            ACS   25,5400   0,95   25,8600   25,3900     216.486   \n",
       "3           AENA  144,1500   0,80  144,9500  142,7500      65.063   \n",
       "4       ALMIRALL   14,0500   0,29   14,0800   13,8700     144.083   \n",
       "5        AMADEUS   61,9200  -0,13   62,3600   61,7400     524.020   \n",
       "6    ARCELORMIT.   27,0050   2,10   27,0450   26,5100     334.853   \n",
       "7    B.SANTANDER    3,4385  -0,35    3,4600    3,4225   8.499.936   \n",
       "8    BA.SABADELL    0,6268  -0,70    0,6384    0,6230  19.627.126   \n",
       "9      BANKINTER    4,6990   0,41    4,7270    4,6620   1.616.756   \n",
       "10          BBVA    5,1490   0,45    5,1720    5,1310   3.028.383   \n",
       "11     CAIXABANK    2,8150  -0,92    2,8490    2,8100   3.220.516   \n",
       "12       CELLNEX   49,2700  -1,08   49,9700   49,0700   1.274.075   \n",
       "13  CIE AUTOMOT.   24,8800   1,30   24,9200   24,6000      63.070   \n",
       "14        ENAGAS   19,2650  -0,03   19,3850   19,2500     232.282   \n",
       "15        ENDESA   22,3800  -5,37   23,2000   22,3500   2.433.483   \n",
       "16     FERROVIAL   24,0600   0,38   24,2800   23,9400     322.127   \n",
       "17       FLUIDRA   33,1500   1,69   33,5000   32,7000     180.697   \n",
       "18  GRIFOLS CL.A   22,9000   0,22   23,0800   22,8300     146.265   \n",
       "19           IAG    2,3740   0,59    2,3800    2,3520   4.698.956   \n",
       "20     IBERDROLA   11,0350  -2,39   11,2150   11,0350  11.137.583   \n",
       "21       INDITEX   31,7400  -0,56   31,9700   31,6500     495.650   \n",
       "22       INDRA A    7,0150  -1,89    7,2050    7,0050     808.593   \n",
       "23  INM.COLONIAL    9,1150   0,00    9,1750    9,0800     126.508   \n",
       "24        MAPFRE    1,8660  -0,64    1,8945    1,8605   6.117.110   \n",
       "25  MELIA HOTELS    6,9280   0,64    6,9780    6,8600     416.967   \n",
       "26        MERLIN    9,5100   0,51    9,5500    9,4540     318.474   \n",
       "27       NATURGY   21,4900   0,09   21,5300   21,4500     153.945   \n",
       "28    PHARMA MAR   76,9000   0,47   77,4800   76,1800      56.907   \n",
       "29        R.E.C.   16,4100  -0,06   16,5600   16,3550     353.135   \n",
       "30        REPSOL   10,9780   0,13   11,0100   10,9060   1.047.319   \n",
       "31  SIEMENS GAME   26,9200  -0,70   27,2700   26,7400     170.196   \n",
       "32       SOLARIA   15,9900   3,46   16,6600   15,3500     903.439   \n",
       "33    TELEFONICA    4,0370   0,11    4,0845    4,0300  27.030.594   \n",
       "34      VISCOFAN   57,9500   0,17   58,2500   57,7500       7.989   \n",
       "\n",
       "   Efectivo (miles €)       Fecha      Hora  \n",
       "0            4.728,98  31/05/2021  17:15:02  \n",
       "1            7.383,31  31/05/2021  17:20:43  \n",
       "2            5.558,24  31/05/2021  17:20:17  \n",
       "3            9.350,70  31/05/2021  17:20:45  \n",
       "4            2.017,66  31/05/2021  17:20:25  \n",
       "5           32.436,64  31/05/2021  17:19:22  \n",
       "6            9.005,07  31/05/2021  17:20:45  \n",
       "7           29.259,63  31/05/2021  17:20:49  \n",
       "8           12.356,96  31/05/2021  17:20:52  \n",
       "9            7.621,01  31/05/2021  17:20:52  \n",
       "10          15.603,01  31/05/2021  17:20:45  \n",
       "11           9.095,65  31/05/2021  17:20:51  \n",
       "12          63.497,22  31/05/2021  17:20:47  \n",
       "13           1.560,82  31/05/2021  17:20:48  \n",
       "14           4.488,50  31/05/2021  17:20:29  \n",
       "15          55.010,86  31/05/2021  17:20:43  \n",
       "16           7.781,82  31/05/2021  17:20:28  \n",
       "17           6.004,25  31/05/2021  17:20:00  \n",
       "18           3.353,45  31/05/2021  17:18:23  \n",
       "19          11.148,38  31/05/2021  17:20:41  \n",
       "20         124.508,40  31/05/2021  17:20:51  \n",
       "21          15.749,56  31/05/2021  17:20:45  \n",
       "22           5.731,67  31/05/2021  17:20:45  \n",
       "23           1.153,33  31/05/2021  17:15:29  \n",
       "24          11.505,41  31/05/2021  17:20:04  \n",
       "25           2.884,99  31/05/2021  17:20:18  \n",
       "26           3.025,36  31/05/2021  17:20:15  \n",
       "27           3.309,05  31/05/2021  17:20:22  \n",
       "28           4.370,89  31/05/2021  17:20:45  \n",
       "29           5.810,96  31/05/2021  17:20:47  \n",
       "30          11.488,41  31/05/2021  17:20:19  \n",
       "31           4.595,83  31/05/2021  17:20:00  \n",
       "32          14.589,04  31/05/2021  17:20:37  \n",
       "33         109.709,83  31/05/2021  17:20:33  \n",
       "34             463,06  31/05/2021  17:19:22  "
      ],
      "text/html": "<div>\n<style scoped>\n    .dataframe tbody tr th:only-of-type {\n        vertical-align: middle;\n    }\n\n    .dataframe tbody tr th {\n        vertical-align: top;\n    }\n\n    .dataframe thead th {\n        text-align: right;\n    }\n</style>\n<table border=\"1\" class=\"dataframe\">\n  <thead>\n    <tr style=\"text-align: right;\">\n      <th></th>\n      <th>Nombre</th>\n      <th>Últ.</th>\n      <th>% Dif.</th>\n      <th>Máx.</th>\n      <th>Mín.</th>\n      <th>Volumen</th>\n      <th>Efectivo (miles €)</th>\n      <th>Fecha</th>\n      <th>Hora</th>\n    </tr>\n  </thead>\n  <tbody>\n    <tr>\n      <th>0</th>\n      <td>ACCIONA</td>\n      <td>138,4000</td>\n      <td>-2,47</td>\n      <td>142,2000</td>\n      <td>138,2000</td>\n      <td>33.994</td>\n      <td>4.728,98</td>\n      <td>31/05/2021</td>\n      <td>17:15:02</td>\n    </tr>\n    <tr>\n      <th>1</th>\n      <td>ACERINOX</td>\n      <td>11,7550</td>\n      <td>0,51</td>\n      <td>11,8350</td>\n      <td>11,7050</td>\n      <td>627.829</td>\n      <td>7.383,31</td>\n      <td>31/05/2021</td>\n      <td>17:20:43</td>\n    </tr>\n    <tr>\n      <th>2</th>\n      <td>ACS</td>\n      <td>25,5400</td>\n      <td>0,95</td>\n      <td>25,8600</td>\n      <td>25,3900</td>\n      <td>216.486</td>\n      <td>5.558,24</td>\n      <td>31/05/2021</td>\n      <td>17:20:17</td>\n    </tr>\n    <tr>\n      <th>3</th>\n      <td>AENA</td>\n      <td>144,1500</td>\n      <td>0,80</td>\n      <td>144,9500</td>\n      <td>142,7500</td>\n      <td>65.063</td>\n      <td>9.350,70</td>\n      <td>31/05/2021</td>\n      <td>17:20:45</td>\n    </tr>\n    <tr>\n      <th>4</th>\n      <td>ALMIRALL</td>\n      <td>14,0500</td>\n      <td>0,29</td>\n      <td>14,0800</td>\n      <td>13,8700</td>\n      <td>144.083</td>\n      <td>2.017,66</td>\n      <td>31/05/2021</td>\n      <td>17:20:25</td>\n    </tr>\n    <tr>\n      <th>5</th>\n      <td>AMADEUS</td>\n      <td>61,9200</td>\n      <td>-0,13</td>\n      <td>62,3600</td>\n      <td>61,7400</td>\n      <td>524.020</td>\n      <td>32.436,64</td>\n      <td>31/05/2021</td>\n      <td>17:19:22</td>\n    </tr>\n    <tr>\n      <th>6</th>\n      <td>ARCELORMIT.</td>\n      <td>27,0050</td>\n      <td>2,10</td>\n      <td>27,0450</td>\n      <td>26,5100</td>\n      <td>334.853</td>\n      <td>9.005,07</td>\n      <td>31/05/2021</td>\n      <td>17:20:45</td>\n    </tr>\n    <tr>\n      <th>7</th>\n      <td>B.SANTANDER</td>\n      <td>3,4385</td>\n      <td>-0,35</td>\n      <td>3,4600</td>\n      <td>3,4225</td>\n      <td>8.499.936</td>\n      <td>29.259,63</td>\n      <td>31/05/2021</td>\n      <td>17:20:49</td>\n    </tr>\n    <tr>\n      <th>8</th>\n      <td>BA.SABADELL</td>\n      <td>0,6268</td>\n      <td>-0,70</td>\n      <td>0,6384</td>\n      <td>0,6230</td>\n      <td>19.627.126</td>\n      <td>12.356,96</td>\n      <td>31/05/2021</td>\n      <td>17:20:52</td>\n    </tr>\n    <tr>\n      <th>9</th>\n      <td>BANKINTER</td>\n      <td>4,6990</td>\n      <td>0,41</td>\n      <td>4,7270</td>\n      <td>4,6620</td>\n      <td>1.616.756</td>\n      <td>7.621,01</td>\n      <td>31/05/2021</td>\n      <td>17:20:52</td>\n    </tr>\n    <tr>\n      <th>10</th>\n      <td>BBVA</td>\n      <td>5,1490</td>\n      <td>0,45</td>\n      <td>5,1720</td>\n      <td>5,1310</td>\n      <td>3.028.383</td>\n      <td>15.603,01</td>\n      <td>31/05/2021</td>\n      <td>17:20:45</td>\n    </tr>\n    <tr>\n      <th>11</th>\n      <td>CAIXABANK</td>\n      <td>2,8150</td>\n      <td>-0,92</td>\n      <td>2,8490</td>\n      <td>2,8100</td>\n      <td>3.220.516</td>\n      <td>9.095,65</td>\n      <td>31/05/2021</td>\n      <td>17:20:51</td>\n    </tr>\n    <tr>\n      <th>12</th>\n      <td>CELLNEX</td>\n      <td>49,2700</td>\n      <td>-1,08</td>\n      <td>49,9700</td>\n      <td>49,0700</td>\n      <td>1.274.075</td>\n      <td>63.497,22</td>\n      <td>31/05/2021</td>\n      <td>17:20:47</td>\n    </tr>\n    <tr>\n      <th>13</th>\n      <td>CIE AUTOMOT.</td>\n      <td>24,8800</td>\n      <td>1,30</td>\n      <td>24,9200</td>\n      <td>24,6000</td>\n      <td>63.070</td>\n      <td>1.560,82</td>\n      <td>31/05/2021</td>\n      <td>17:20:48</td>\n    </tr>\n    <tr>\n      <th>14</th>\n      <td>ENAGAS</td>\n      <td>19,2650</td>\n      <td>-0,03</td>\n      <td>19,3850</td>\n      <td>19,2500</td>\n      <td>232.282</td>\n      <td>4.488,50</td>\n      <td>31/05/2021</td>\n      <td>17:20:29</td>\n    </tr>\n    <tr>\n      <th>15</th>\n      <td>ENDESA</td>\n      <td>22,3800</td>\n      <td>-5,37</td>\n      <td>23,2000</td>\n      <td>22,3500</td>\n      <td>2.433.483</td>\n      <td>55.010,86</td>\n      <td>31/05/2021</td>\n      <td>17:20:43</td>\n    </tr>\n    <tr>\n      <th>16</th>\n      <td>FERROVIAL</td>\n      <td>24,0600</td>\n      <td>0,38</td>\n      <td>24,2800</td>\n      <td>23,9400</td>\n      <td>322.127</td>\n      <td>7.781,82</td>\n      <td>31/05/2021</td>\n      <td>17:20:28</td>\n    </tr>\n    <tr>\n      <th>17</th>\n      <td>FLUIDRA</td>\n      <td>33,1500</td>\n      <td>1,69</td>\n      <td>33,5000</td>\n      <td>32,7000</td>\n      <td>180.697</td>\n      <td>6.004,25</td>\n      <td>31/05/2021</td>\n      <td>17:20:00</td>\n    </tr>\n    <tr>\n      <th>18</th>\n      <td>GRIFOLS CL.A</td>\n      <td>22,9000</td>\n      <td>0,22</td>\n      <td>23,0800</td>\n      <td>22,8300</td>\n      <td>146.265</td>\n      <td>3.353,45</td>\n      <td>31/05/2021</td>\n      <td>17:18:23</td>\n    </tr>\n    <tr>\n      <th>19</th>\n      <td>IAG</td>\n      <td>2,3740</td>\n      <td>0,59</td>\n      <td>2,3800</td>\n      <td>2,3520</td>\n      <td>4.698.956</td>\n      <td>11.148,38</td>\n      <td>31/05/2021</td>\n      <td>17:20:41</td>\n    </tr>\n    <tr>\n      <th>20</th>\n      <td>IBERDROLA</td>\n      <td>11,0350</td>\n      <td>-2,39</td>\n      <td>11,2150</td>\n      <td>11,0350</td>\n      <td>11.137.583</td>\n      <td>124.508,40</td>\n      <td>31/05/2021</td>\n      <td>17:20:51</td>\n    </tr>\n    <tr>\n      <th>21</th>\n      <td>INDITEX</td>\n      <td>31,7400</td>\n      <td>-0,56</td>\n      <td>31,9700</td>\n      <td>31,6500</td>\n      <td>495.650</td>\n      <td>15.749,56</td>\n      <td>31/05/2021</td>\n      <td>17:20:45</td>\n    </tr>\n    <tr>\n      <th>22</th>\n      <td>INDRA A</td>\n      <td>7,0150</td>\n      <td>-1,89</td>\n      <td>7,2050</td>\n      <td>7,0050</td>\n      <td>808.593</td>\n      <td>5.731,67</td>\n      <td>31/05/2021</td>\n      <td>17:20:45</td>\n    </tr>\n    <tr>\n      <th>23</th>\n      <td>INM.COLONIAL</td>\n      <td>9,1150</td>\n      <td>0,00</td>\n      <td>9,1750</td>\n      <td>9,0800</td>\n      <td>126.508</td>\n      <td>1.153,33</td>\n      <td>31/05/2021</td>\n      <td>17:15:29</td>\n    </tr>\n    <tr>\n      <th>24</th>\n      <td>MAPFRE</td>\n      <td>1,8660</td>\n      <td>-0,64</td>\n      <td>1,8945</td>\n      <td>1,8605</td>\n      <td>6.117.110</td>\n      <td>11.505,41</td>\n      <td>31/05/2021</td>\n      <td>17:20:04</td>\n    </tr>\n    <tr>\n      <th>25</th>\n      <td>MELIA HOTELS</td>\n      <td>6,9280</td>\n      <td>0,64</td>\n      <td>6,9780</td>\n      <td>6,8600</td>\n      <td>416.967</td>\n      <td>2.884,99</td>\n      <td>31/05/2021</td>\n      <td>17:20:18</td>\n    </tr>\n    <tr>\n      <th>26</th>\n      <td>MERLIN</td>\n      <td>9,5100</td>\n      <td>0,51</td>\n      <td>9,5500</td>\n      <td>9,4540</td>\n      <td>318.474</td>\n      <td>3.025,36</td>\n      <td>31/05/2021</td>\n      <td>17:20:15</td>\n    </tr>\n    <tr>\n      <th>27</th>\n      <td>NATURGY</td>\n      <td>21,4900</td>\n      <td>0,09</td>\n      <td>21,5300</td>\n      <td>21,4500</td>\n      <td>153.945</td>\n      <td>3.309,05</td>\n      <td>31/05/2021</td>\n      <td>17:20:22</td>\n    </tr>\n    <tr>\n      <th>28</th>\n      <td>PHARMA MAR</td>\n      <td>76,9000</td>\n      <td>0,47</td>\n      <td>77,4800</td>\n      <td>76,1800</td>\n      <td>56.907</td>\n      <td>4.370,89</td>\n      <td>31/05/2021</td>\n      <td>17:20:45</td>\n    </tr>\n    <tr>\n      <th>29</th>\n      <td>R.E.C.</td>\n      <td>16,4100</td>\n      <td>-0,06</td>\n      <td>16,5600</td>\n      <td>16,3550</td>\n      <td>353.135</td>\n      <td>5.810,96</td>\n      <td>31/05/2021</td>\n      <td>17:20:47</td>\n    </tr>\n    <tr>\n      <th>30</th>\n      <td>REPSOL</td>\n      <td>10,9780</td>\n      <td>0,13</td>\n      <td>11,0100</td>\n      <td>10,9060</td>\n      <td>1.047.319</td>\n      <td>11.488,41</td>\n      <td>31/05/2021</td>\n      <td>17:20:19</td>\n    </tr>\n    <tr>\n      <th>31</th>\n      <td>SIEMENS GAME</td>\n      <td>26,9200</td>\n      <td>-0,70</td>\n      <td>27,2700</td>\n      <td>26,7400</td>\n      <td>170.196</td>\n      <td>4.595,83</td>\n      <td>31/05/2021</td>\n      <td>17:20:00</td>\n    </tr>\n    <tr>\n      <th>32</th>\n      <td>SOLARIA</td>\n      <td>15,9900</td>\n      <td>3,46</td>\n      <td>16,6600</td>\n      <td>15,3500</td>\n      <td>903.439</td>\n      <td>14.589,04</td>\n      <td>31/05/2021</td>\n      <td>17:20:37</td>\n    </tr>\n    <tr>\n      <th>33</th>\n      <td>TELEFONICA</td>\n      <td>4,0370</td>\n      <td>0,11</td>\n      <td>4,0845</td>\n      <td>4,0300</td>\n      <td>27.030.594</td>\n      <td>109.709,83</td>\n      <td>31/05/2021</td>\n      <td>17:20:33</td>\n    </tr>\n    <tr>\n      <th>34</th>\n      <td>VISCOFAN</td>\n      <td>57,9500</td>\n      <td>0,17</td>\n      <td>58,2500</td>\n      <td>57,7500</td>\n      <td>7.989</td>\n      <td>463,06</td>\n      <td>31/05/2021</td>\n      <td>17:19:22</td>\n    </tr>\n  </tbody>\n</table>\n</div>"
     },
     "metadata": {},
     "execution_count": 1
    }
   ],
   "source": [
    "import pandas as pd\n",
    "import numpy as np\n",
    "import requests\n",
    "from bs4 import BeautifulSoup\n",
    "from time import sleep\n",
    "\n",
    "url = 'https://www.bolsamadrid.es/esp/aspx/Mercados/Precios.aspx?indice=ESI100000000&punto=indice'\n",
    "\n",
    "def get_table(round, url=url):\n",
    "    round_url = f'{url}/{round}'\n",
    "    page = requests.get(round_url)\n",
    "    soup = BeautifulSoup(page.text, 'html.parser')\n",
    "\n",
    "    rows = []\n",
    "    for child in soup.find_all('table')[4].children:\n",
    "        row = []\n",
    "        for td in child:\n",
    "            try:\n",
    "                row.append(td.text.replace('\\n', ''))\n",
    "            except:\n",
    "                continue\n",
    "        if len(row) > 0:\n",
    "            rows.append(row)\n",
    "\n",
    "    df = pd.DataFrame(rows[1:], columns=rows[0])\n",
    "\n",
    "    return df\n",
    "\n",
    "\n",
    "for round in range(1, 2):\n",
    "    table = get_table(round)\n",
    "    table.to_csv(f'../data/raw/PL_tablematchday{round}.csv', index=False)\n",
    "    sleep(np.random.randint(1, 10))\n",
    "\n",
    "pd = get_table(1, url)\n",
    "\n",
    "pd"
   ]
  }
 ]
}