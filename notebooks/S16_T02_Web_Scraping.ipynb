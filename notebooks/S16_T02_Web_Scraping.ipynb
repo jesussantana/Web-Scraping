{
 "metadata": {
  "language_info": {
   "codemirror_mode": {
    "name": "ipython",
    "version": 3
   },
   "file_extension": ".py",
   "mimetype": "text/x-python",
   "name": "python",
   "nbconvert_exporter": "python",
   "pygments_lexer": "ipython3",
   "version": "3.8.5"
  },
  "orig_nbformat": 2,
  "kernelspec": {
   "name": "python385jvsc74a57bd031f2aee4e71d21fbe5cf8b01ff0e069b9275f58929596ceb00d14d90e3e16cd6",
   "display_name": "Python 3.8.5 64-bit"
  },
  "metadata": {
   "interpreter": {
    "hash": "31f2aee4e71d21fbe5cf8b01ff0e069b9275f58929596ceb00d14d90e3e16cd6"
   }
  }
 },
 "nbformat": 4,
 "nbformat_minor": 2,
 "cells": [
  {
   "cell_type": "code",
   "execution_count": null,
   "metadata": {},
   "outputs": [],
   "source": [
    "# IT Academy - Data Science with Python\n",
    "## Sprint 16: Web Scraping\n",
    "### [Github Web Scraping](https://github.com/jesussantana/Web-Scraping)\n",
    "\n",
    "[![forthebadge made-with-python](http://ForTheBadge.com/images/badges/made-with-python.svg)](https://www.python.org/)  \n",
    "[![Made withJupyter](https://img.shields.io/badge/Made%20with-Jupyter-orange?style=for-the-badge&logo=Jupyter)](https://jupyter.org/try)  \n",
    "[![wakatime](https://wakatime.com/badge/github/jesussantana/Web-Scraping.svg)](https://wakatime.com/badge/github/jesussantana/Web-Scraping)"
   ]
  },
  {
   "source": [
    "### Exercise 1: \n",
    "  - Perform web scraping of a page on the Madrid Stock Exchange (https://www.bolsamadrid.es) using BeautifulSoup and Selenium."
   ],
   "cell_type": "markdown",
   "metadata": {}
  },
  {
   "cell_type": "code",
   "execution_count": 13,
   "metadata": {},
   "outputs": [
    {
     "output_type": "execute_result",
     "data": {
      "text/plain": [
       "          Nombre      Últ. % Dif.      Máx.      Mín.     Volumen  \\\n",
       "0        ACCIONA  138,5000  -2,40  142,2000  138,2000      30.749   \n",
       "1       ACERINOX   11,7500   0,47   11,8350   11,7050     607.708   \n",
       "2            ACS   25,5900   1,15   25,8600   25,3900     205.004   \n",
       "3           AENA  144,2500   0,87  144,9500  142,7500      61.317   \n",
       "4       ALMIRALL   14,0500   0,29   14,0800   13,8700     136.970   \n",
       "5        AMADEUS   61,9600  -0,06   62,3600   61,7400     518.222   \n",
       "6    ARCELORMIT.   26,9850   2,02   27,0450   26,5100     324.243   \n",
       "7    B.SANTANDER    3,4360  -0,42    3,4600    3,4310   7.484.416   \n",
       "8    BA.SABADELL    0,6264  -0,76    0,6384    0,6230  18.765.070   \n",
       "9      BANKINTER    4,7000   0,43    4,7270    4,6620   1.580.482   \n",
       "10          BBVA    5,1570   0,60    5,1720    5,1310   2.705.573   \n",
       "11     CAIXABANK    2,8220  -0,67    2,8490    2,8140   2.580.163   \n",
       "12       CELLNEX   49,2700  -1,08   49,9700   49,0700   1.259.691   \n",
       "13  CIE AUTOMOT.   24,8800   1,30   24,9200   24,6000      60.874   \n",
       "14        ENAGAS   19,2700   0,00   19,3850   19,2500     227.406   \n",
       "15        ENDESA   22,3600  -5,45   23,2000   22,3500   2.364.314   \n",
       "16     FERROVIAL   24,1000   0,54   24,2800   23,9400     305.325   \n",
       "17       FLUIDRA   33,2000   1,84   33,5000   32,7000     173.436   \n",
       "18  GRIFOLS CL.A   22,8800   0,13   23,0800   22,8300     121.836   \n",
       "19           IAG    2,3770   0,72    2,3800    2,3520   4.343.394   \n",
       "20     IBERDROLA   11,0500  -2,26   11,2150   11,0350  10.815.395   \n",
       "21       INDITEX   31,7200  -0,63   31,9700   31,6500     461.076   \n",
       "22       INDRA A    7,0300  -1,68    7,2050    7,0300     654.323   \n",
       "23  INM.COLONIAL    9,1150   0,00    9,1750    9,0800     120.126   \n",
       "24        MAPFRE    1,8690  -0,48    1,8945    1,8605   6.069.205   \n",
       "25  MELIA HOTELS    6,9380   0,78    6,9780    6,8600     393.780   \n",
       "26        MERLIN    9,5160   0,57    9,5500    9,4540     310.261   \n",
       "27       NATURGY   21,5000   0,14   21,5300   21,4500     123.055   \n",
       "28    PHARMA MAR   76,7800   0,31   77,4800   76,1800      54.908   \n",
       "29        R.E.C.   16,4200   0,00   16,5600   16,3550     347.700   \n",
       "30        REPSOL   11,0000   0,33   11,0100   10,9060   1.012.912   \n",
       "31  SIEMENS GAME   26,8800  -0,85   27,2700   26,7400     166.911   \n",
       "32       SOLARIA   15,8700   2,69   16,6600   15,3500     879.545   \n",
       "33    TELEFONICA    4,0375   0,12    4,0845    4,0315  26.318.271   \n",
       "34      VISCOFAN   57,9500   0,17   58,2500   57,7500       7.341   \n",
       "\n",
       "   Efectivo (miles €)       Fecha      Hora  \n",
       "0            4.280,11  31/05/2021  17:05:55  \n",
       "1            7.146,93  31/05/2021  17:04:58  \n",
       "2            5.264,81  31/05/2021  17:06:45  \n",
       "3            8.810,67  31/05/2021  17:06:53  \n",
       "4            1.917,72  31/05/2021  17:06:58  \n",
       "5           32.077,76  31/05/2021  17:06:57  \n",
       "6            8.718,60  31/05/2021  17:05:39  \n",
       "7           25.776,22  31/05/2021  17:06:58  \n",
       "8           11.817,23  31/05/2021  17:06:11  \n",
       "9            7.450,78  31/05/2021  17:05:14  \n",
       "10          13.942,36  31/05/2021  17:06:13  \n",
       "11           7.292,76  31/05/2021  17:06:24  \n",
       "12          62.788,83  31/05/2021  17:06:51  \n",
       "13           1.506,19  31/05/2021  17:02:50  \n",
       "14           4.394,57  31/05/2021  17:05:13  \n",
       "15          53.462,71  31/05/2021  17:06:54  \n",
       "16           7.376,77  31/05/2021  17:06:43  \n",
       "17           5.763,60  31/05/2021  17:02:50  \n",
       "18           2.794,83  31/05/2021  17:05:43  \n",
       "19          10.304,10  31/05/2021  17:05:47  \n",
       "20         120.951,03  31/05/2021  17:06:46  \n",
       "21          14.653,45  31/05/2021  17:06:22  \n",
       "22           4.648,79  31/05/2021  17:06:44  \n",
       "23           1.095,15  31/05/2021  17:01:58  \n",
       "24          11.415,99  31/05/2021  17:06:12  \n",
       "25           2.724,27  31/05/2021  17:06:28  \n",
       "26           2.947,30  31/05/2021  17:06:09  \n",
       "27           2.644,98  31/05/2021  17:06:20  \n",
       "28           4.217,37  31/05/2021  17:06:52  \n",
       "29           5.721,75  31/05/2021  17:04:02  \n",
       "30          11.110,59  31/05/2021  17:06:00  \n",
       "31           4.507,51  31/05/2021  17:04:49  \n",
       "32          14.208,16  31/05/2021  17:07:00  \n",
       "33         106.835,69  31/05/2021  17:06:45  \n",
       "34             425,52  31/05/2021  17:05:13  "
      ],
      "text/html": "<div>\n<style scoped>\n    .dataframe tbody tr th:only-of-type {\n        vertical-align: middle;\n    }\n\n    .dataframe tbody tr th {\n        vertical-align: top;\n    }\n\n    .dataframe thead th {\n        text-align: right;\n    }\n</style>\n<table border=\"1\" class=\"dataframe\">\n  <thead>\n    <tr style=\"text-align: right;\">\n      <th></th>\n      <th>Nombre</th>\n      <th>Últ.</th>\n      <th>% Dif.</th>\n      <th>Máx.</th>\n      <th>Mín.</th>\n      <th>Volumen</th>\n      <th>Efectivo (miles €)</th>\n      <th>Fecha</th>\n      <th>Hora</th>\n    </tr>\n  </thead>\n  <tbody>\n    <tr>\n      <th>0</th>\n      <td>ACCIONA</td>\n      <td>138,5000</td>\n      <td>-2,40</td>\n      <td>142,2000</td>\n      <td>138,2000</td>\n      <td>30.749</td>\n      <td>4.280,11</td>\n      <td>31/05/2021</td>\n      <td>17:05:55</td>\n    </tr>\n    <tr>\n      <th>1</th>\n      <td>ACERINOX</td>\n      <td>11,7500</td>\n      <td>0,47</td>\n      <td>11,8350</td>\n      <td>11,7050</td>\n      <td>607.708</td>\n      <td>7.146,93</td>\n      <td>31/05/2021</td>\n      <td>17:04:58</td>\n    </tr>\n    <tr>\n      <th>2</th>\n      <td>ACS</td>\n      <td>25,5900</td>\n      <td>1,15</td>\n      <td>25,8600</td>\n      <td>25,3900</td>\n      <td>205.004</td>\n      <td>5.264,81</td>\n      <td>31/05/2021</td>\n      <td>17:06:45</td>\n    </tr>\n    <tr>\n      <th>3</th>\n      <td>AENA</td>\n      <td>144,2500</td>\n      <td>0,87</td>\n      <td>144,9500</td>\n      <td>142,7500</td>\n      <td>61.317</td>\n      <td>8.810,67</td>\n      <td>31/05/2021</td>\n      <td>17:06:53</td>\n    </tr>\n    <tr>\n      <th>4</th>\n      <td>ALMIRALL</td>\n      <td>14,0500</td>\n      <td>0,29</td>\n      <td>14,0800</td>\n      <td>13,8700</td>\n      <td>136.970</td>\n      <td>1.917,72</td>\n      <td>31/05/2021</td>\n      <td>17:06:58</td>\n    </tr>\n    <tr>\n      <th>5</th>\n      <td>AMADEUS</td>\n      <td>61,9600</td>\n      <td>-0,06</td>\n      <td>62,3600</td>\n      <td>61,7400</td>\n      <td>518.222</td>\n      <td>32.077,76</td>\n      <td>31/05/2021</td>\n      <td>17:06:57</td>\n    </tr>\n    <tr>\n      <th>6</th>\n      <td>ARCELORMIT.</td>\n      <td>26,9850</td>\n      <td>2,02</td>\n      <td>27,0450</td>\n      <td>26,5100</td>\n      <td>324.243</td>\n      <td>8.718,60</td>\n      <td>31/05/2021</td>\n      <td>17:05:39</td>\n    </tr>\n    <tr>\n      <th>7</th>\n      <td>B.SANTANDER</td>\n      <td>3,4360</td>\n      <td>-0,42</td>\n      <td>3,4600</td>\n      <td>3,4310</td>\n      <td>7.484.416</td>\n      <td>25.776,22</td>\n      <td>31/05/2021</td>\n      <td>17:06:58</td>\n    </tr>\n    <tr>\n      <th>8</th>\n      <td>BA.SABADELL</td>\n      <td>0,6264</td>\n      <td>-0,76</td>\n      <td>0,6384</td>\n      <td>0,6230</td>\n      <td>18.765.070</td>\n      <td>11.817,23</td>\n      <td>31/05/2021</td>\n      <td>17:06:11</td>\n    </tr>\n    <tr>\n      <th>9</th>\n      <td>BANKINTER</td>\n      <td>4,7000</td>\n      <td>0,43</td>\n      <td>4,7270</td>\n      <td>4,6620</td>\n      <td>1.580.482</td>\n      <td>7.450,78</td>\n      <td>31/05/2021</td>\n      <td>17:05:14</td>\n    </tr>\n    <tr>\n      <th>10</th>\n      <td>BBVA</td>\n      <td>5,1570</td>\n      <td>0,60</td>\n      <td>5,1720</td>\n      <td>5,1310</td>\n      <td>2.705.573</td>\n      <td>13.942,36</td>\n      <td>31/05/2021</td>\n      <td>17:06:13</td>\n    </tr>\n    <tr>\n      <th>11</th>\n      <td>CAIXABANK</td>\n      <td>2,8220</td>\n      <td>-0,67</td>\n      <td>2,8490</td>\n      <td>2,8140</td>\n      <td>2.580.163</td>\n      <td>7.292,76</td>\n      <td>31/05/2021</td>\n      <td>17:06:24</td>\n    </tr>\n    <tr>\n      <th>12</th>\n      <td>CELLNEX</td>\n      <td>49,2700</td>\n      <td>-1,08</td>\n      <td>49,9700</td>\n      <td>49,0700</td>\n      <td>1.259.691</td>\n      <td>62.788,83</td>\n      <td>31/05/2021</td>\n      <td>17:06:51</td>\n    </tr>\n    <tr>\n      <th>13</th>\n      <td>CIE AUTOMOT.</td>\n      <td>24,8800</td>\n      <td>1,30</td>\n      <td>24,9200</td>\n      <td>24,6000</td>\n      <td>60.874</td>\n      <td>1.506,19</td>\n      <td>31/05/2021</td>\n      <td>17:02:50</td>\n    </tr>\n    <tr>\n      <th>14</th>\n      <td>ENAGAS</td>\n      <td>19,2700</td>\n      <td>0,00</td>\n      <td>19,3850</td>\n      <td>19,2500</td>\n      <td>227.406</td>\n      <td>4.394,57</td>\n      <td>31/05/2021</td>\n      <td>17:05:13</td>\n    </tr>\n    <tr>\n      <th>15</th>\n      <td>ENDESA</td>\n      <td>22,3600</td>\n      <td>-5,45</td>\n      <td>23,2000</td>\n      <td>22,3500</td>\n      <td>2.364.314</td>\n      <td>53.462,71</td>\n      <td>31/05/2021</td>\n      <td>17:06:54</td>\n    </tr>\n    <tr>\n      <th>16</th>\n      <td>FERROVIAL</td>\n      <td>24,1000</td>\n      <td>0,54</td>\n      <td>24,2800</td>\n      <td>23,9400</td>\n      <td>305.325</td>\n      <td>7.376,77</td>\n      <td>31/05/2021</td>\n      <td>17:06:43</td>\n    </tr>\n    <tr>\n      <th>17</th>\n      <td>FLUIDRA</td>\n      <td>33,2000</td>\n      <td>1,84</td>\n      <td>33,5000</td>\n      <td>32,7000</td>\n      <td>173.436</td>\n      <td>5.763,60</td>\n      <td>31/05/2021</td>\n      <td>17:02:50</td>\n    </tr>\n    <tr>\n      <th>18</th>\n      <td>GRIFOLS CL.A</td>\n      <td>22,8800</td>\n      <td>0,13</td>\n      <td>23,0800</td>\n      <td>22,8300</td>\n      <td>121.836</td>\n      <td>2.794,83</td>\n      <td>31/05/2021</td>\n      <td>17:05:43</td>\n    </tr>\n    <tr>\n      <th>19</th>\n      <td>IAG</td>\n      <td>2,3770</td>\n      <td>0,72</td>\n      <td>2,3800</td>\n      <td>2,3520</td>\n      <td>4.343.394</td>\n      <td>10.304,10</td>\n      <td>31/05/2021</td>\n      <td>17:05:47</td>\n    </tr>\n    <tr>\n      <th>20</th>\n      <td>IBERDROLA</td>\n      <td>11,0500</td>\n      <td>-2,26</td>\n      <td>11,2150</td>\n      <td>11,0350</td>\n      <td>10.815.395</td>\n      <td>120.951,03</td>\n      <td>31/05/2021</td>\n      <td>17:06:46</td>\n    </tr>\n    <tr>\n      <th>21</th>\n      <td>INDITEX</td>\n      <td>31,7200</td>\n      <td>-0,63</td>\n      <td>31,9700</td>\n      <td>31,6500</td>\n      <td>461.076</td>\n      <td>14.653,45</td>\n      <td>31/05/2021</td>\n      <td>17:06:22</td>\n    </tr>\n    <tr>\n      <th>22</th>\n      <td>INDRA A</td>\n      <td>7,0300</td>\n      <td>-1,68</td>\n      <td>7,2050</td>\n      <td>7,0300</td>\n      <td>654.323</td>\n      <td>4.648,79</td>\n      <td>31/05/2021</td>\n      <td>17:06:44</td>\n    </tr>\n    <tr>\n      <th>23</th>\n      <td>INM.COLONIAL</td>\n      <td>9,1150</td>\n      <td>0,00</td>\n      <td>9,1750</td>\n      <td>9,0800</td>\n      <td>120.126</td>\n      <td>1.095,15</td>\n      <td>31/05/2021</td>\n      <td>17:01:58</td>\n    </tr>\n    <tr>\n      <th>24</th>\n      <td>MAPFRE</td>\n      <td>1,8690</td>\n      <td>-0,48</td>\n      <td>1,8945</td>\n      <td>1,8605</td>\n      <td>6.069.205</td>\n      <td>11.415,99</td>\n      <td>31/05/2021</td>\n      <td>17:06:12</td>\n    </tr>\n    <tr>\n      <th>25</th>\n      <td>MELIA HOTELS</td>\n      <td>6,9380</td>\n      <td>0,78</td>\n      <td>6,9780</td>\n      <td>6,8600</td>\n      <td>393.780</td>\n      <td>2.724,27</td>\n      <td>31/05/2021</td>\n      <td>17:06:28</td>\n    </tr>\n    <tr>\n      <th>26</th>\n      <td>MERLIN</td>\n      <td>9,5160</td>\n      <td>0,57</td>\n      <td>9,5500</td>\n      <td>9,4540</td>\n      <td>310.261</td>\n      <td>2.947,30</td>\n      <td>31/05/2021</td>\n      <td>17:06:09</td>\n    </tr>\n    <tr>\n      <th>27</th>\n      <td>NATURGY</td>\n      <td>21,5000</td>\n      <td>0,14</td>\n      <td>21,5300</td>\n      <td>21,4500</td>\n      <td>123.055</td>\n      <td>2.644,98</td>\n      <td>31/05/2021</td>\n      <td>17:06:20</td>\n    </tr>\n    <tr>\n      <th>28</th>\n      <td>PHARMA MAR</td>\n      <td>76,7800</td>\n      <td>0,31</td>\n      <td>77,4800</td>\n      <td>76,1800</td>\n      <td>54.908</td>\n      <td>4.217,37</td>\n      <td>31/05/2021</td>\n      <td>17:06:52</td>\n    </tr>\n    <tr>\n      <th>29</th>\n      <td>R.E.C.</td>\n      <td>16,4200</td>\n      <td>0,00</td>\n      <td>16,5600</td>\n      <td>16,3550</td>\n      <td>347.700</td>\n      <td>5.721,75</td>\n      <td>31/05/2021</td>\n      <td>17:04:02</td>\n    </tr>\n    <tr>\n      <th>30</th>\n      <td>REPSOL</td>\n      <td>11,0000</td>\n      <td>0,33</td>\n      <td>11,0100</td>\n      <td>10,9060</td>\n      <td>1.012.912</td>\n      <td>11.110,59</td>\n      <td>31/05/2021</td>\n      <td>17:06:00</td>\n    </tr>\n    <tr>\n      <th>31</th>\n      <td>SIEMENS GAME</td>\n      <td>26,8800</td>\n      <td>-0,85</td>\n      <td>27,2700</td>\n      <td>26,7400</td>\n      <td>166.911</td>\n      <td>4.507,51</td>\n      <td>31/05/2021</td>\n      <td>17:04:49</td>\n    </tr>\n    <tr>\n      <th>32</th>\n      <td>SOLARIA</td>\n      <td>15,8700</td>\n      <td>2,69</td>\n      <td>16,6600</td>\n      <td>15,3500</td>\n      <td>879.545</td>\n      <td>14.208,16</td>\n      <td>31/05/2021</td>\n      <td>17:07:00</td>\n    </tr>\n    <tr>\n      <th>33</th>\n      <td>TELEFONICA</td>\n      <td>4,0375</td>\n      <td>0,12</td>\n      <td>4,0845</td>\n      <td>4,0315</td>\n      <td>26.318.271</td>\n      <td>106.835,69</td>\n      <td>31/05/2021</td>\n      <td>17:06:45</td>\n    </tr>\n    <tr>\n      <th>34</th>\n      <td>VISCOFAN</td>\n      <td>57,9500</td>\n      <td>0,17</td>\n      <td>58,2500</td>\n      <td>57,7500</td>\n      <td>7.341</td>\n      <td>425,52</td>\n      <td>31/05/2021</td>\n      <td>17:05:13</td>\n    </tr>\n  </tbody>\n</table>\n</div>"
     },
     "metadata": {},
     "execution_count": 13
    }
   ],
   "source": [
    "import pandas as pd\n",
    "import numpy as np\n",
    "import requests\n",
    "from bs4 import BeautifulSoup\n",
    "from time import sleep\n",
    "\n",
    "url = 'https://www.bolsamadrid.es/esp/aspx/Mercados/Precios.aspx?indice=ESI100000000&punto=indice'\n",
    "\n",
    "def get_table(round, url=url):\n",
    "    round_url = f'{url}/{round}'\n",
    "    page = requests.get(round_url)\n",
    "    soup = BeautifulSoup(page.text, 'html.parser')\n",
    "\n",
    "    rows = []\n",
    "    for child in soup.find_all('table')[4].children:\n",
    "        row = []\n",
    "        for td in child:\n",
    "            try:\n",
    "                row.append(td.text.replace('\\n', ''))\n",
    "            except:\n",
    "                continue\n",
    "        if len(row) > 0:\n",
    "            rows.append(row)\n",
    "\n",
    "    df = pd.DataFrame(rows[1:], columns=rows[0])\n",
    "\n",
    "    return df\n",
    "\n",
    "\n",
    "for round in range(1, 2):\n",
    "    table = get_table(round)\n",
    "    table.to_csv(f'../data/raw/PL_tablematchday{round}.csv', index=False)\n",
    "    sleep(np.random.randint(1, 10))\n",
    "\n",
    "pd = get_table(1, url)\n",
    "\n",
    "pd"
   ]
  },
  {
   "cell_type": "code",
   "execution_count": null,
   "metadata": {},
   "outputs": [],
   "source": []
  },
  {
   "cell_type": "code",
   "execution_count": null,
   "metadata": {},
   "outputs": [],
   "source": []
  }
 ]
}