{
 "cells": [
  {
   "cell_type": "markdown",
   "metadata": {},
   "source": [
    "# IT Academy - Data Science with Python\n",
    "## Sprint 16: Web Scraping (In Process)\n",
    "### [Github Web Scraping](https://github.com/jesussantana/Web-Scraping)\n",
    "\n",
    "[![forthebadge made-with-python](http://ForTheBadge.com/images/badges/made-with-python.svg)](https://www.python.org/)  \n",
    "[![Made withJupyter](https://img.shields.io/badge/Made%20with-Jupyter-orange?style=for-the-badge&logo=Jupyter)](https://jupyter.org/try)  \n",
    "[![wakatime](https://wakatime.com/badge/github/jesussantana/Web-Scraping.svg)](https://wakatime.com/badge/github/jesussantana/Web-Scraping)"
   ]
  },
  {
   "cell_type": "code",
   "execution_count": 1,
   "metadata": {},
   "outputs": [],
   "source": [
    "import numpy as np\n",
    "# ^^^ pyforest auto-imports - don't write above this line\n",
    "import csv\n",
    "\n",
    "from urllib.request import urlopen\n",
    "\n",
    "from urllib.error import HTTPError\n",
    "\n",
    "from urllib.error import URLError\n",
    "\n",
    "from bs4 import BeautifulSoup\n",
    "\n",
    "import requests\n",
    "\n",
    "from time import sleep"
   ]
  },
  {
   "cell_type": "code",
   "execution_count": 2,
   "metadata": {},
   "outputs": [],
   "source": [
    "url = 'https://www.bolsamadrid.es'"
   ]
  },
  {
   "cell_type": "code",
   "execution_count": 3,
   "metadata": {},
   "outputs": [],
   "source": [
    "## Scraping page Handling HTTP exceptions\n",
    "\n",
    "def scrap_page(url):\n",
    "    try:\n",
    "    \n",
    "        html = requests.get(url)\n",
    "\n",
    "    except HTTPError as e:\n",
    "\n",
    "        print(e)\n",
    "\n",
    "    except URLError:\n",
    "\n",
    "        print(\"Server down or incorrect domain\")\n",
    "    \n",
    "    else:\n",
    "        soup = BeautifulSoup(html.content, 'html.parser')\n",
    "    \n",
    "        return soup "
   ]
  },
  {
   "cell_type": "code",
   "execution_count": 4,
   "metadata": {},
   "outputs": [],
   "source": [
    "soup = scrap_page(url)"
   ]
  },
  {
   "cell_type": "code",
   "execution_count": 5,
   "metadata": {},
   "outputs": [],
   "source": [
    "# search related links \n",
    "\n",
    "links = []\n",
    "\n",
    "for link in soup.find_all('a', string='Acciones'):\n",
    "    \n",
    "    links.append(link.get('href'))"
   ]
  },
  {
   "cell_type": "code",
   "execution_count": 6,
   "metadata": {},
   "outputs": [
    {
     "data": {
      "text/plain": [
       "['/esp/aspx/Mercados/Precios.aspx?indice=ESI100000000',\n",
       " '/esp/aspx/Mercados/Precios.aspx?indice=ESI100000000']"
      ]
     },
     "execution_count": 6,
     "metadata": {},
     "output_type": "execute_result"
    }
   ],
   "source": [
    "links"
   ]
  },
  {
   "cell_type": "code",
   "execution_count": 7,
   "metadata": {},
   "outputs": [
    {
     "data": {
      "text/plain": [
       "'https://www.bolsamadrid.es/esp/aspx/Mercados/Precios.aspx?indice=ESI100000000'"
      ]
     },
     "execution_count": 7,
     "metadata": {},
     "output_type": "execute_result"
    }
   ],
   "source": [
    "new_url = url + links[0]\n",
    "\n",
    "new_url"
   ]
  },
  {
   "cell_type": "code",
   "execution_count": 8,
   "metadata": {},
   "outputs": [],
   "source": [
    "scrap_url = new_url + '&punto=indice'"
   ]
  },
  {
   "cell_type": "code",
   "execution_count": 9,
   "metadata": {},
   "outputs": [
    {
     "data": {
      "text/plain": [
       "'https://www.bolsamadrid.es/esp/aspx/Mercados/Precios.aspx?indice=ESI100000000&punto=indice'"
      ]
     },
     "execution_count": 9,
     "metadata": {},
     "output_type": "execute_result"
    }
   ],
   "source": [
    "scrap_url"
   ]
  },
  {
   "cell_type": "code",
   "execution_count": 10,
   "metadata": {},
   "outputs": [],
   "source": [
    "## Function to scrape the page table and retorn a DF, Handling HTTP exceptions\n",
    "\n",
    "def get_table(round, url=url):\n",
    "    \n",
    "    round_url = f'{url}/{round}'\n",
    "    \n",
    "    # Call function to scrap page\n",
    "    soup = scrap_page(round_url)\n",
    "        \n",
    "    \n",
    "    # Extract columns & rows for the table\n",
    "    rows = []\n",
    "    \n",
    "    for child in soup.find_all('table')[4].children:\n",
    "        row = []\n",
    "        \n",
    "        for td in child:\n",
    "            \n",
    "            try:\n",
    "                row.append(td.text.replace('\\n', ''))\n",
    "                \n",
    "            except:\n",
    "                continue\n",
    "                \n",
    "        if len(row) > 0:\n",
    "            \n",
    "            rows.append(row)\n",
    "                \n",
    "    #create FataFrame from the rows\n",
    "    df = pd.DataFrame(rows[1:], columns=rows[0])\n",
    "\n",
    "    return df"
   ]
  },
  {
   "cell_type": "code",
   "execution_count": 11,
   "metadata": {},
   "outputs": [],
   "source": [
    "df = get_table(1, scrap_url)"
   ]
  },
  {
   "cell_type": "code",
   "execution_count": 12,
   "metadata": {},
   "outputs": [
    {
     "data": {
      "text/html": [
       "<div>\n",
       "<style scoped>\n",
       "    .dataframe tbody tr th:only-of-type {\n",
       "        vertical-align: middle;\n",
       "    }\n",
       "\n",
       "    .dataframe tbody tr th {\n",
       "        vertical-align: top;\n",
       "    }\n",
       "\n",
       "    .dataframe thead th {\n",
       "        text-align: right;\n",
       "    }\n",
       "</style>\n",
       "<table border=\"1\" class=\"dataframe\">\n",
       "  <thead>\n",
       "    <tr style=\"text-align: right;\">\n",
       "      <th></th>\n",
       "      <th>Nombre</th>\n",
       "      <th>Últ.</th>\n",
       "      <th>% Dif.</th>\n",
       "      <th>Máx.</th>\n",
       "      <th>Mín.</th>\n",
       "      <th>Volumen</th>\n",
       "      <th>Efectivo (miles €)</th>\n",
       "      <th>Fecha</th>\n",
       "      <th>Hora</th>\n",
       "    </tr>\n",
       "  </thead>\n",
       "  <tbody>\n",
       "    <tr>\n",
       "      <th>0</th>\n",
       "      <td>ACCIONA</td>\n",
       "      <td>127,7000</td>\n",
       "      <td>0,39</td>\n",
       "      <td>128,1000</td>\n",
       "      <td>127,2000</td>\n",
       "      <td>2.488</td>\n",
       "      <td>317,46</td>\n",
       "      <td>29/06/2021</td>\n",
       "      <td>09:09:17</td>\n",
       "    </tr>\n",
       "    <tr>\n",
       "      <th>1</th>\n",
       "      <td>ACERINOX</td>\n",
       "      <td>10,0250</td>\n",
       "      <td>0,71</td>\n",
       "      <td>10,0250</td>\n",
       "      <td>9,9380</td>\n",
       "      <td>34.782</td>\n",
       "      <td>347,29</td>\n",
       "      <td>29/06/2021</td>\n",
       "      <td>09:09:20</td>\n",
       "    </tr>\n",
       "    <tr>\n",
       "      <th>2</th>\n",
       "      <td>ACS</td>\n",
       "      <td>22,4300</td>\n",
       "      <td>0,49</td>\n",
       "      <td>22,4600</td>\n",
       "      <td>22,2700</td>\n",
       "      <td>45.436</td>\n",
       "      <td>1.016,10</td>\n",
       "      <td>29/06/2021</td>\n",
       "      <td>09:09:42</td>\n",
       "    </tr>\n",
       "    <tr>\n",
       "      <th>3</th>\n",
       "      <td>AENA</td>\n",
       "      <td>141,7000</td>\n",
       "      <td>-0,14</td>\n",
       "      <td>142,4000</td>\n",
       "      <td>140,9000</td>\n",
       "      <td>9.646</td>\n",
       "      <td>1.362,91</td>\n",
       "      <td>29/06/2021</td>\n",
       "      <td>09:09:10</td>\n",
       "    </tr>\n",
       "    <tr>\n",
       "      <th>4</th>\n",
       "      <td>ALMIRALL</td>\n",
       "      <td>14,9200</td>\n",
       "      <td>0,13</td>\n",
       "      <td>14,9200</td>\n",
       "      <td>14,8300</td>\n",
       "      <td>3.511</td>\n",
       "      <td>52,22</td>\n",
       "      <td>29/06/2021</td>\n",
       "      <td>09:09:50</td>\n",
       "    </tr>\n",
       "    <tr>\n",
       "      <th>5</th>\n",
       "      <td>AMADEUS</td>\n",
       "      <td>60,4200</td>\n",
       "      <td>-1,37</td>\n",
       "      <td>60,5600</td>\n",
       "      <td>58,5400</td>\n",
       "      <td>93.576</td>\n",
       "      <td>5.570,34</td>\n",
       "      <td>29/06/2021</td>\n",
       "      <td>09:09:30</td>\n",
       "    </tr>\n",
       "    <tr>\n",
       "      <th>6</th>\n",
       "      <td>ARCELORMIT.</td>\n",
       "      <td>25,8000</td>\n",
       "      <td>1,28</td>\n",
       "      <td>25,8000</td>\n",
       "      <td>25,5400</td>\n",
       "      <td>21.290</td>\n",
       "      <td>546,04</td>\n",
       "      <td>29/06/2021</td>\n",
       "      <td>09:09:43</td>\n",
       "    </tr>\n",
       "    <tr>\n",
       "      <th>7</th>\n",
       "      <td>B.SANTANDER</td>\n",
       "      <td>3,2860</td>\n",
       "      <td>0,72</td>\n",
       "      <td>3,2880</td>\n",
       "      <td>3,2635</td>\n",
       "      <td>811.120</td>\n",
       "      <td>2.655,85</td>\n",
       "      <td>29/06/2021</td>\n",
       "      <td>09:09:46</td>\n",
       "    </tr>\n",
       "    <tr>\n",
       "      <th>8</th>\n",
       "      <td>BA.SABADELL</td>\n",
       "      <td>0,5824</td>\n",
       "      <td>0,94</td>\n",
       "      <td>0,5848</td>\n",
       "      <td>0,5702</td>\n",
       "      <td>1.496.920</td>\n",
       "      <td>861,38</td>\n",
       "      <td>29/06/2021</td>\n",
       "      <td>09:09:50</td>\n",
       "    </tr>\n",
       "    <tr>\n",
       "      <th>9</th>\n",
       "      <td>BANKINTER</td>\n",
       "      <td>4,2940</td>\n",
       "      <td>0,66</td>\n",
       "      <td>4,2940</td>\n",
       "      <td>4,2440</td>\n",
       "      <td>22.232</td>\n",
       "      <td>94,75</td>\n",
       "      <td>29/06/2021</td>\n",
       "      <td>09:08:40</td>\n",
       "    </tr>\n",
       "    <tr>\n",
       "      <th>10</th>\n",
       "      <td>BBVA</td>\n",
       "      <td>5,2990</td>\n",
       "      <td>0,42</td>\n",
       "      <td>5,3030</td>\n",
       "      <td>5,2640</td>\n",
       "      <td>304.379</td>\n",
       "      <td>1.606,85</td>\n",
       "      <td>29/06/2021</td>\n",
       "      <td>09:09:39</td>\n",
       "    </tr>\n",
       "    <tr>\n",
       "      <th>11</th>\n",
       "      <td>CAIXABANK</td>\n",
       "      <td>2,6070</td>\n",
       "      <td>0,89</td>\n",
       "      <td>2,6070</td>\n",
       "      <td>2,5840</td>\n",
       "      <td>202.149</td>\n",
       "      <td>523,54</td>\n",
       "      <td>29/06/2021</td>\n",
       "      <td>09:09:39</td>\n",
       "    </tr>\n",
       "    <tr>\n",
       "      <th>12</th>\n",
       "      <td>CELLNEX</td>\n",
       "      <td>54,9800</td>\n",
       "      <td>0,99</td>\n",
       "      <td>55,0600</td>\n",
       "      <td>54,4600</td>\n",
       "      <td>16.641</td>\n",
       "      <td>909,70</td>\n",
       "      <td>29/06/2021</td>\n",
       "      <td>09:09:37</td>\n",
       "    </tr>\n",
       "    <tr>\n",
       "      <th>13</th>\n",
       "      <td>CIE AUTOMOT.</td>\n",
       "      <td>25,2400</td>\n",
       "      <td>1,04</td>\n",
       "      <td>25,3400</td>\n",
       "      <td>25,0400</td>\n",
       "      <td>7.863</td>\n",
       "      <td>197,76</td>\n",
       "      <td>29/06/2021</td>\n",
       "      <td>09:09:23</td>\n",
       "    </tr>\n",
       "    <tr>\n",
       "      <th>14</th>\n",
       "      <td>ENAGAS</td>\n",
       "      <td>19,7600</td>\n",
       "      <td>0,30</td>\n",
       "      <td>19,7650</td>\n",
       "      <td>19,7250</td>\n",
       "      <td>13.436</td>\n",
       "      <td>265,24</td>\n",
       "      <td>29/06/2021</td>\n",
       "      <td>09:09:24</td>\n",
       "    </tr>\n",
       "    <tr>\n",
       "      <th>15</th>\n",
       "      <td>ENDESA</td>\n",
       "      <td>20,9100</td>\n",
       "      <td>0,10</td>\n",
       "      <td>21,2800</td>\n",
       "      <td>20,8700</td>\n",
       "      <td>163.998</td>\n",
       "      <td>3.465,48</td>\n",
       "      <td>29/06/2021</td>\n",
       "      <td>09:09:50</td>\n",
       "    </tr>\n",
       "    <tr>\n",
       "      <th>16</th>\n",
       "      <td>FERROVIAL</td>\n",
       "      <td>25,2300</td>\n",
       "      <td>0,24</td>\n",
       "      <td>25,2600</td>\n",
       "      <td>25,0900</td>\n",
       "      <td>7.406</td>\n",
       "      <td>186,40</td>\n",
       "      <td>29/06/2021</td>\n",
       "      <td>09:07:13</td>\n",
       "    </tr>\n",
       "    <tr>\n",
       "      <th>17</th>\n",
       "      <td>FLUIDRA</td>\n",
       "      <td>33,7000</td>\n",
       "      <td>0,60</td>\n",
       "      <td>33,7500</td>\n",
       "      <td>33,4000</td>\n",
       "      <td>8.945</td>\n",
       "      <td>300,48</td>\n",
       "      <td>29/06/2021</td>\n",
       "      <td>09:09:32</td>\n",
       "    </tr>\n",
       "    <tr>\n",
       "      <th>18</th>\n",
       "      <td>GRIFOLS CL.A</td>\n",
       "      <td>22,8000</td>\n",
       "      <td>-0,18</td>\n",
       "      <td>22,8500</td>\n",
       "      <td>22,7000</td>\n",
       "      <td>12.722</td>\n",
       "      <td>289,79</td>\n",
       "      <td>29/06/2021</td>\n",
       "      <td>09:09:05</td>\n",
       "    </tr>\n",
       "    <tr>\n",
       "      <th>19</th>\n",
       "      <td>IAG</td>\n",
       "      <td>2,0450</td>\n",
       "      <td>-0,68</td>\n",
       "      <td>2,0670</td>\n",
       "      <td>2,0200</td>\n",
       "      <td>3.243.162</td>\n",
       "      <td>6.635,01</td>\n",
       "      <td>29/06/2021</td>\n",
       "      <td>09:09:48</td>\n",
       "    </tr>\n",
       "    <tr>\n",
       "      <th>20</th>\n",
       "      <td>IBERDROLA</td>\n",
       "      <td>10,3550</td>\n",
       "      <td>0,10</td>\n",
       "      <td>10,3600</td>\n",
       "      <td>10,3200</td>\n",
       "      <td>261.911</td>\n",
       "      <td>2.706,72</td>\n",
       "      <td>29/06/2021</td>\n",
       "      <td>09:09:46</td>\n",
       "    </tr>\n",
       "    <tr>\n",
       "      <th>21</th>\n",
       "      <td>INDITEX</td>\n",
       "      <td>30,3200</td>\n",
       "      <td>1,13</td>\n",
       "      <td>30,3200</td>\n",
       "      <td>30,0300</td>\n",
       "      <td>50.676</td>\n",
       "      <td>1.527,80</td>\n",
       "      <td>29/06/2021</td>\n",
       "      <td>09:09:43</td>\n",
       "    </tr>\n",
       "    <tr>\n",
       "      <th>22</th>\n",
       "      <td>INDRA A</td>\n",
       "      <td>7,6250</td>\n",
       "      <td>-0,07</td>\n",
       "      <td>7,6500</td>\n",
       "      <td>7,5650</td>\n",
       "      <td>28.869</td>\n",
       "      <td>219,76</td>\n",
       "      <td>29/06/2021</td>\n",
       "      <td>09:07:24</td>\n",
       "    </tr>\n",
       "    <tr>\n",
       "      <th>23</th>\n",
       "      <td>INM.COLONIAL</td>\n",
       "      <td>8,6000</td>\n",
       "      <td>0,00</td>\n",
       "      <td>8,6100</td>\n",
       "      <td>8,5300</td>\n",
       "      <td>12.084</td>\n",
       "      <td>103,41</td>\n",
       "      <td>29/06/2021</td>\n",
       "      <td>09:05:31</td>\n",
       "    </tr>\n",
       "    <tr>\n",
       "      <th>24</th>\n",
       "      <td>MAPFRE</td>\n",
       "      <td>1,7725</td>\n",
       "      <td>0,40</td>\n",
       "      <td>1,7725</td>\n",
       "      <td>1,7630</td>\n",
       "      <td>58.542</td>\n",
       "      <td>103,29</td>\n",
       "      <td>29/06/2021</td>\n",
       "      <td>09:09:41</td>\n",
       "    </tr>\n",
       "    <tr>\n",
       "      <th>25</th>\n",
       "      <td>MELIA HOTELS</td>\n",
       "      <td>6,2720</td>\n",
       "      <td>0,32</td>\n",
       "      <td>6,2800</td>\n",
       "      <td>6,1640</td>\n",
       "      <td>95.571</td>\n",
       "      <td>595,10</td>\n",
       "      <td>29/06/2021</td>\n",
       "      <td>09:09:21</td>\n",
       "    </tr>\n",
       "    <tr>\n",
       "      <th>26</th>\n",
       "      <td>MERLIN</td>\n",
       "      <td>8,7700</td>\n",
       "      <td>0,34</td>\n",
       "      <td>8,7980</td>\n",
       "      <td>8,7160</td>\n",
       "      <td>10.912</td>\n",
       "      <td>95,43</td>\n",
       "      <td>29/06/2021</td>\n",
       "      <td>09:08:09</td>\n",
       "    </tr>\n",
       "    <tr>\n",
       "      <th>27</th>\n",
       "      <td>NATURGY</td>\n",
       "      <td>21,8500</td>\n",
       "      <td>-0,23</td>\n",
       "      <td>21,8800</td>\n",
       "      <td>21,8300</td>\n",
       "      <td>8.125</td>\n",
       "      <td>177,60</td>\n",
       "      <td>29/06/2021</td>\n",
       "      <td>09:09:39</td>\n",
       "    </tr>\n",
       "    <tr>\n",
       "      <th>28</th>\n",
       "      <td>PHARMA MAR</td>\n",
       "      <td>79,1000</td>\n",
       "      <td>0,23</td>\n",
       "      <td>79,2600</td>\n",
       "      <td>78,7000</td>\n",
       "      <td>2.302</td>\n",
       "      <td>181,65</td>\n",
       "      <td>29/06/2021</td>\n",
       "      <td>09:09:22</td>\n",
       "    </tr>\n",
       "    <tr>\n",
       "      <th>29</th>\n",
       "      <td>R.E.C.</td>\n",
       "      <td>16,5900</td>\n",
       "      <td>0,45</td>\n",
       "      <td>16,5950</td>\n",
       "      <td>16,4950</td>\n",
       "      <td>18.618</td>\n",
       "      <td>308,01</td>\n",
       "      <td>29/06/2021</td>\n",
       "      <td>09:08:21</td>\n",
       "    </tr>\n",
       "    <tr>\n",
       "      <th>30</th>\n",
       "      <td>REPSOL</td>\n",
       "      <td>10,7460</td>\n",
       "      <td>0,60</td>\n",
       "      <td>10,7640</td>\n",
       "      <td>10,6460</td>\n",
       "      <td>89.385</td>\n",
       "      <td>955,43</td>\n",
       "      <td>29/06/2021</td>\n",
       "      <td>09:09:35</td>\n",
       "    </tr>\n",
       "    <tr>\n",
       "      <th>31</th>\n",
       "      <td>SIEMENS GAME</td>\n",
       "      <td>28,3000</td>\n",
       "      <td>1,65</td>\n",
       "      <td>28,3600</td>\n",
       "      <td>27,5100</td>\n",
       "      <td>85.843</td>\n",
       "      <td>2.395,48</td>\n",
       "      <td>29/06/2021</td>\n",
       "      <td>09:09:50</td>\n",
       "    </tr>\n",
       "    <tr>\n",
       "      <th>32</th>\n",
       "      <td>SOLARIA</td>\n",
       "      <td>15,9800</td>\n",
       "      <td>1,14</td>\n",
       "      <td>15,9800</td>\n",
       "      <td>15,8300</td>\n",
       "      <td>27.371</td>\n",
       "      <td>435,88</td>\n",
       "      <td>29/06/2021</td>\n",
       "      <td>09:09:19</td>\n",
       "    </tr>\n",
       "    <tr>\n",
       "      <th>33</th>\n",
       "      <td>TELEFONICA</td>\n",
       "      <td>3,8890</td>\n",
       "      <td>1,10</td>\n",
       "      <td>3,8910</td>\n",
       "      <td>3,8600</td>\n",
       "      <td>407.832</td>\n",
       "      <td>1.580,73</td>\n",
       "      <td>29/06/2021</td>\n",
       "      <td>09:09:41</td>\n",
       "    </tr>\n",
       "    <tr>\n",
       "      <th>34</th>\n",
       "      <td>VISCOFAN</td>\n",
       "      <td>59,0000</td>\n",
       "      <td>0,00</td>\n",
       "      <td>59,1000</td>\n",
       "      <td>59,0000</td>\n",
       "      <td>580</td>\n",
       "      <td>34,25</td>\n",
       "      <td>29/06/2021</td>\n",
       "      <td>09:09:21</td>\n",
       "    </tr>\n",
       "  </tbody>\n",
       "</table>\n",
       "</div>"
      ],
      "text/plain": [
       "          Nombre      Últ. % Dif.      Máx.      Mín.    Volumen  \\\n",
       "0        ACCIONA  127,7000   0,39  128,1000  127,2000      2.488   \n",
       "1       ACERINOX   10,0250   0,71   10,0250    9,9380     34.782   \n",
       "2            ACS   22,4300   0,49   22,4600   22,2700     45.436   \n",
       "3           AENA  141,7000  -0,14  142,4000  140,9000      9.646   \n",
       "4       ALMIRALL   14,9200   0,13   14,9200   14,8300      3.511   \n",
       "5        AMADEUS   60,4200  -1,37   60,5600   58,5400     93.576   \n",
       "6    ARCELORMIT.   25,8000   1,28   25,8000   25,5400     21.290   \n",
       "7    B.SANTANDER    3,2860   0,72    3,2880    3,2635    811.120   \n",
       "8    BA.SABADELL    0,5824   0,94    0,5848    0,5702  1.496.920   \n",
       "9      BANKINTER    4,2940   0,66    4,2940    4,2440     22.232   \n",
       "10          BBVA    5,2990   0,42    5,3030    5,2640    304.379   \n",
       "11     CAIXABANK    2,6070   0,89    2,6070    2,5840    202.149   \n",
       "12       CELLNEX   54,9800   0,99   55,0600   54,4600     16.641   \n",
       "13  CIE AUTOMOT.   25,2400   1,04   25,3400   25,0400      7.863   \n",
       "14        ENAGAS   19,7600   0,30   19,7650   19,7250     13.436   \n",
       "15        ENDESA   20,9100   0,10   21,2800   20,8700    163.998   \n",
       "16     FERROVIAL   25,2300   0,24   25,2600   25,0900      7.406   \n",
       "17       FLUIDRA   33,7000   0,60   33,7500   33,4000      8.945   \n",
       "18  GRIFOLS CL.A   22,8000  -0,18   22,8500   22,7000     12.722   \n",
       "19           IAG    2,0450  -0,68    2,0670    2,0200  3.243.162   \n",
       "20     IBERDROLA   10,3550   0,10   10,3600   10,3200    261.911   \n",
       "21       INDITEX   30,3200   1,13   30,3200   30,0300     50.676   \n",
       "22       INDRA A    7,6250  -0,07    7,6500    7,5650     28.869   \n",
       "23  INM.COLONIAL    8,6000   0,00    8,6100    8,5300     12.084   \n",
       "24        MAPFRE    1,7725   0,40    1,7725    1,7630     58.542   \n",
       "25  MELIA HOTELS    6,2720   0,32    6,2800    6,1640     95.571   \n",
       "26        MERLIN    8,7700   0,34    8,7980    8,7160     10.912   \n",
       "27       NATURGY   21,8500  -0,23   21,8800   21,8300      8.125   \n",
       "28    PHARMA MAR   79,1000   0,23   79,2600   78,7000      2.302   \n",
       "29        R.E.C.   16,5900   0,45   16,5950   16,4950     18.618   \n",
       "30        REPSOL   10,7460   0,60   10,7640   10,6460     89.385   \n",
       "31  SIEMENS GAME   28,3000   1,65   28,3600   27,5100     85.843   \n",
       "32       SOLARIA   15,9800   1,14   15,9800   15,8300     27.371   \n",
       "33    TELEFONICA    3,8890   1,10    3,8910    3,8600    407.832   \n",
       "34      VISCOFAN   59,0000   0,00   59,1000   59,0000        580   \n",
       "\n",
       "   Efectivo (miles €)       Fecha      Hora  \n",
       "0              317,46  29/06/2021  09:09:17  \n",
       "1              347,29  29/06/2021  09:09:20  \n",
       "2            1.016,10  29/06/2021  09:09:42  \n",
       "3            1.362,91  29/06/2021  09:09:10  \n",
       "4               52,22  29/06/2021  09:09:50  \n",
       "5            5.570,34  29/06/2021  09:09:30  \n",
       "6              546,04  29/06/2021  09:09:43  \n",
       "7            2.655,85  29/06/2021  09:09:46  \n",
       "8              861,38  29/06/2021  09:09:50  \n",
       "9               94,75  29/06/2021  09:08:40  \n",
       "10           1.606,85  29/06/2021  09:09:39  \n",
       "11             523,54  29/06/2021  09:09:39  \n",
       "12             909,70  29/06/2021  09:09:37  \n",
       "13             197,76  29/06/2021  09:09:23  \n",
       "14             265,24  29/06/2021  09:09:24  \n",
       "15           3.465,48  29/06/2021  09:09:50  \n",
       "16             186,40  29/06/2021  09:07:13  \n",
       "17             300,48  29/06/2021  09:09:32  \n",
       "18             289,79  29/06/2021  09:09:05  \n",
       "19           6.635,01  29/06/2021  09:09:48  \n",
       "20           2.706,72  29/06/2021  09:09:46  \n",
       "21           1.527,80  29/06/2021  09:09:43  \n",
       "22             219,76  29/06/2021  09:07:24  \n",
       "23             103,41  29/06/2021  09:05:31  \n",
       "24             103,29  29/06/2021  09:09:41  \n",
       "25             595,10  29/06/2021  09:09:21  \n",
       "26              95,43  29/06/2021  09:08:09  \n",
       "27             177,60  29/06/2021  09:09:39  \n",
       "28             181,65  29/06/2021  09:09:22  \n",
       "29             308,01  29/06/2021  09:08:21  \n",
       "30             955,43  29/06/2021  09:09:35  \n",
       "31           2.395,48  29/06/2021  09:09:50  \n",
       "32             435,88  29/06/2021  09:09:19  \n",
       "33           1.580,73  29/06/2021  09:09:41  \n",
       "34              34,25  29/06/2021  09:09:21  "
      ]
     },
     "execution_count": 12,
     "metadata": {},
     "output_type": "execute_result"
    }
   ],
   "source": [
    "df"
   ]
  },
  {
   "cell_type": "code",
   "execution_count": 13,
   "metadata": {},
   "outputs": [
    {
     "data": {
      "application/javascript": "\n        if (window._pyforest_update_imports_cell) { window._pyforest_update_imports_cell('import numpy as np'); }\n    ",
      "text/plain": [
       "<IPython.core.display.Javascript object>"
      ]
     },
     "metadata": {},
     "output_type": "display_data"
    },
    {
     "data": {
      "application/javascript": "\n        if (window._pyforest_update_imports_cell) { window._pyforest_update_imports_cell('import numpy as np'); }\n    ",
      "text/plain": [
       "<IPython.core.display.Javascript object>"
      ]
     },
     "metadata": {},
     "output_type": "display_data"
    },
    {
     "data": {
      "application/javascript": "\n        if (window._pyforest_update_imports_cell) { window._pyforest_update_imports_cell('import numpy as np'); }\n    ",
      "text/plain": [
       "<IPython.core.display.Javascript object>"
      ]
     },
     "metadata": {},
     "output_type": "display_data"
    },
    {
     "data": {
      "application/javascript": "\n        if (window._pyforest_update_imports_cell) { window._pyforest_update_imports_cell('import numpy as np'); }\n    ",
      "text/plain": [
       "<IPython.core.display.Javascript object>"
      ]
     },
     "metadata": {},
     "output_type": "display_data"
    },
    {
     "data": {
      "application/javascript": "\n        if (window._pyforest_update_imports_cell) { window._pyforest_update_imports_cell('import numpy as np'); }\n    ",
      "text/plain": [
       "<IPython.core.display.Javascript object>"
      ]
     },
     "metadata": {},
     "output_type": "display_data"
    },
    {
     "data": {
      "application/javascript": "\n        if (window._pyforest_update_imports_cell) { window._pyforest_update_imports_cell('import numpy as np'); }\n    ",
      "text/plain": [
       "<IPython.core.display.Javascript object>"
      ]
     },
     "metadata": {},
     "output_type": "display_data"
    },
    {
     "data": {
      "application/javascript": "\n        if (window._pyforest_update_imports_cell) { window._pyforest_update_imports_cell('import numpy as np'); }\n    ",
      "text/plain": [
       "<IPython.core.display.Javascript object>"
      ]
     },
     "metadata": {},
     "output_type": "display_data"
    },
    {
     "data": {
      "application/javascript": "\n        if (window._pyforest_update_imports_cell) { window._pyforest_update_imports_cell('import numpy as np'); }\n    ",
      "text/plain": [
       "<IPython.core.display.Javascript object>"
      ]
     },
     "metadata": {},
     "output_type": "display_data"
    },
    {
     "data": {
      "application/javascript": "\n        if (window._pyforest_update_imports_cell) { window._pyforest_update_imports_cell('import numpy as np'); }\n    ",
      "text/plain": [
       "<IPython.core.display.Javascript object>"
      ]
     },
     "metadata": {},
     "output_type": "display_data"
    },
    {
     "data": {
      "application/javascript": "\n        if (window._pyforest_update_imports_cell) { window._pyforest_update_imports_cell('import numpy as np'); }\n    ",
      "text/plain": [
       "<IPython.core.display.Javascript object>"
      ]
     },
     "metadata": {},
     "output_type": "display_data"
    },
    {
     "data": {
      "application/javascript": "\n        if (window._pyforest_update_imports_cell) { window._pyforest_update_imports_cell('import numpy as np'); }\n    ",
      "text/plain": [
       "<IPython.core.display.Javascript object>"
      ]
     },
     "metadata": {},
     "output_type": "display_data"
    },
    {
     "data": {
      "application/javascript": "\n        if (window._pyforest_update_imports_cell) { window._pyforest_update_imports_cell('import numpy as np'); }\n    ",
      "text/plain": [
       "<IPython.core.display.Javascript object>"
      ]
     },
     "metadata": {},
     "output_type": "display_data"
    },
    {
     "data": {
      "application/javascript": "\n        if (window._pyforest_update_imports_cell) { window._pyforest_update_imports_cell('import numpy as np'); }\n    ",
      "text/plain": [
       "<IPython.core.display.Javascript object>"
      ]
     },
     "metadata": {},
     "output_type": "display_data"
    },
    {
     "data": {
      "application/javascript": "\n        if (window._pyforest_update_imports_cell) { window._pyforest_update_imports_cell('import numpy as np'); }\n    ",
      "text/plain": [
       "<IPython.core.display.Javascript object>"
      ]
     },
     "metadata": {},
     "output_type": "display_data"
    },
    {
     "data": {
      "application/javascript": "\n        if (window._pyforest_update_imports_cell) { window._pyforest_update_imports_cell('import numpy as np'); }\n    ",
      "text/plain": [
       "<IPython.core.display.Javascript object>"
      ]
     },
     "metadata": {},
     "output_type": "display_data"
    },
    {
     "data": {
      "application/javascript": "\n        if (window._pyforest_update_imports_cell) { window._pyforest_update_imports_cell('import numpy as np'); }\n    ",
      "text/plain": [
       "<IPython.core.display.Javascript object>"
      ]
     },
     "metadata": {},
     "output_type": "display_data"
    },
    {
     "data": {
      "application/javascript": "\n        if (window._pyforest_update_imports_cell) { window._pyforest_update_imports_cell('import numpy as np'); }\n    ",
      "text/plain": [
       "<IPython.core.display.Javascript object>"
      ]
     },
     "metadata": {},
     "output_type": "display_data"
    },
    {
     "data": {
      "application/javascript": "\n        if (window._pyforest_update_imports_cell) { window._pyforest_update_imports_cell('import numpy as np'); }\n    ",
      "text/plain": [
       "<IPython.core.display.Javascript object>"
      ]
     },
     "metadata": {},
     "output_type": "display_data"
    },
    {
     "data": {
      "application/javascript": "\n        if (window._pyforest_update_imports_cell) { window._pyforest_update_imports_cell('import numpy as np'); }\n    ",
      "text/plain": [
       "<IPython.core.display.Javascript object>"
      ]
     },
     "metadata": {},
     "output_type": "display_data"
    }
   ],
   "source": [
    "# Create CSV's recursively, calls in random periods for not to block the page\n",
    "# Change range to select how many times\n",
    "\n",
    "for round in range(1, 20):\n",
    "    \n",
    "    table = get_table(round, scrap_url)\n",
    "    table.to_csv(f'../data/external/PL_tablematchday{round}.csv', index=False)\n",
    "    sleep(np.random.randint(1, 10))"
   ]
  },
  {
   "cell_type": "markdown",
   "metadata": {},
   "source": [
    "## Create a visualization with alls CSV's"
   ]
  },
  {
   "cell_type": "code",
   "execution_count": null,
   "metadata": {},
   "outputs": [],
   "source": []
  }
 ],
 "metadata": {
  "interpreter": {
   "hash": "78d3dab6f40c7523b8d6860186ee533e6304c6f7ef90f42cee08e4d942add801"
  },
  "kernelspec": {
   "display_name": "Python 3.6.13 64-bit (conda)",
   "name": "python3"
  },
  "language_info": {
   "name": "python",
   "version": ""
  }
 },
 "nbformat": 4,
 "nbformat_minor": 5
}