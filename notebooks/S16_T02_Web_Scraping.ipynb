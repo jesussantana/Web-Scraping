{
 "cells": [
  {
   "cell_type": "markdown",
   "id": "dc7da49f",
   "metadata": {},
   "source": [
    "# IT Academy - Data Science with Python\n",
    "## Sprint 16: Web Scraping (In Process)\n",
    "### [Github Web Scraping](https://github.com/jesussantana/Web-Scraping)\n",
    "\n",
    "[![forthebadge made-with-python](http://ForTheBadge.com/images/badges/made-with-python.svg)](https://www.python.org/)  \n",
    "[![Made withJupyter](https://img.shields.io/badge/Made%20with-Jupyter-orange?style=for-the-badge&logo=Jupyter)](https://jupyter.org/try)  \n",
    "[![wakatime](https://wakatime.com/badge/github/jesussantana/Web-Scraping.svg)](https://wakatime.com/badge/github/jesussantana/Web-Scraping)"
   ]
  },
  {
   "cell_type": "code",
   "execution_count": 1,
   "id": "8d320c5e",
   "metadata": {},
   "outputs": [],
   "source": [
    "import pandas as pd\n",
    "# ^^^ pyforest auto-imports - don't write above this line\n",
    "import csv\n",
    "\n",
    "from urllib.request import urlopen\n",
    "\n",
    "from urllib.error import HTTPError\n",
    "\n",
    "from urllib.error import URLError\n",
    "\n",
    "from bs4 import BeautifulSoup\n",
    "\n",
    "import requests\n",
    "\n",
    "from time import sleep"
   ]
  },
  {
   "cell_type": "code",
   "execution_count": 2,
   "id": "5c58276c",
   "metadata": {},
   "outputs": [],
   "source": [
    "url = 'https://www.bolsamadrid.es'"
   ]
  },
  {
   "cell_type": "code",
   "execution_count": 3,
   "id": "0dc47d14",
   "metadata": {},
   "outputs": [],
   "source": [
    "## Scraping page Handling HTTP exceptions\n",
    "\n",
    "def scrap_page(url):\n",
    "    try:\n",
    "    \n",
    "        html = requests.get(url)\n",
    "\n",
    "    except HTTPError as e:\n",
    "\n",
    "        print(e)\n",
    "\n",
    "    except URLError:\n",
    "\n",
    "        print(\"Server down or incorrect domain\")\n",
    "    \n",
    "    else:\n",
    "        soup = BeautifulSoup(html.content, 'html.parser')\n",
    "    \n",
    "        return soup "
   ]
  },
  {
   "cell_type": "code",
   "execution_count": 4,
   "id": "597108f9",
   "metadata": {},
   "outputs": [],
   "source": [
    "soup = scrap_page(url)"
   ]
  },
  {
   "cell_type": "code",
   "execution_count": 5,
   "id": "aa494dda",
   "metadata": {},
   "outputs": [],
   "source": [
    "# search related links \n",
    "\n",
    "links = []\n",
    "\n",
    "for link in soup.find_all('a', string='Acciones'):\n",
    "    \n",
    "    links.append(link.get('href'))"
   ]
  },
  {
   "cell_type": "code",
   "execution_count": 6,
   "id": "fb4cdb93",
   "metadata": {},
   "outputs": [
    {
     "data": {
      "text/plain": [
       "['/esp/aspx/Mercados/Precios.aspx?indice=ESI100000000',\n",
       " '/esp/aspx/Mercados/Precios.aspx?indice=ESI100000000']"
      ]
     },
     "execution_count": 6,
     "metadata": {},
     "output_type": "execute_result"
    }
   ],
   "source": [
    "links"
   ]
  },
  {
   "cell_type": "code",
   "execution_count": 7,
   "id": "cb25dee7",
   "metadata": {},
   "outputs": [
    {
     "data": {
      "text/plain": [
       "'https://www.bolsamadrid.es/esp/aspx/Mercados/Precios.aspx?indice=ESI100000000'"
      ]
     },
     "execution_count": 7,
     "metadata": {},
     "output_type": "execute_result"
    }
   ],
   "source": [
    "new_url = url + links[0]\n",
    "\n",
    "new_url"
   ]
  },
  {
   "cell_type": "code",
   "execution_count": 8,
   "id": "ec9ca94e",
   "metadata": {},
   "outputs": [],
   "source": [
    "scrap_url = new_url + '&punto=indice'"
   ]
  },
  {
   "cell_type": "code",
   "execution_count": 9,
   "id": "642ffefa",
   "metadata": {},
   "outputs": [
    {
     "data": {
      "text/plain": [
       "'https://www.bolsamadrid.es/esp/aspx/Mercados/Precios.aspx?indice=ESI100000000&punto=indice'"
      ]
     },
     "execution_count": 9,
     "metadata": {},
     "output_type": "execute_result"
    }
   ],
   "source": [
    "scrap_url"
   ]
  },
  {
   "cell_type": "code",
   "execution_count": 13,
   "id": "63a1246c",
   "metadata": {},
   "outputs": [],
   "source": [
    "## Function to scrape the page table and retorn a DF, Handling HTTP exceptions\n",
    "\n",
    "def get_table(round, url=url):\n",
    "    \n",
    "    round_url = f'{url}/{round}'\n",
    "    \n",
    "    # Request de page\n",
    "    try:\n",
    "        html = requests.get(round_url)\n",
    "        \n",
    "    #Handling HTTP exceptions\n",
    "    except HTTPError as e:\n",
    "        print(e)\n",
    "    except URLError:\n",
    "        print(\"Server down or incorrect domain\")\n",
    "    \n",
    "    # Html Parser\n",
    "    else:\n",
    "        soup = BeautifulSoup(html.content, 'html.parser')\n",
    "        \n",
    "    \n",
    "    # Extract columns & rows for the table\n",
    "    rows = []\n",
    "    \n",
    "    for child in soup.find_all('table')[4].children:\n",
    "        row = []\n",
    "        \n",
    "        for td in child:\n",
    "            \n",
    "            try:\n",
    "                row.append(td.text.replace('\\n', ''))\n",
    "                \n",
    "            except:\n",
    "                continue\n",
    "                \n",
    "        if len(row) > 0:\n",
    "            \n",
    "            rows.append(row)\n",
    "                \n",
    "    #create FataFrame from the rows\n",
    "    df = pd.DataFrame(rows[1:], columns=rows[0])\n",
    "\n",
    "    return df"
   ]
  },
  {
   "cell_type": "code",
   "execution_count": 14,
   "id": "7b619c66",
   "metadata": {},
   "outputs": [
    {
     "data": {
      "application/javascript": [
       "\n",
       "        if (window._pyforest_update_imports_cell) { window._pyforest_update_imports_cell('import pandas as pd'); }\n",
       "    "
      ],
      "text/plain": [
       "<IPython.core.display.Javascript object>"
      ]
     },
     "metadata": {},
     "output_type": "display_data"
    }
   ],
   "source": [
    "df = get_table(1, scrap_url)"
   ]
  },
  {
   "cell_type": "code",
   "execution_count": 15,
   "id": "f9b722c4",
   "metadata": {},
   "outputs": [
    {
     "data": {
      "text/html": [
       "<div>\n",
       "<style scoped>\n",
       "    .dataframe tbody tr th:only-of-type {\n",
       "        vertical-align: middle;\n",
       "    }\n",
       "\n",
       "    .dataframe tbody tr th {\n",
       "        vertical-align: top;\n",
       "    }\n",
       "\n",
       "    .dataframe thead th {\n",
       "        text-align: right;\n",
       "    }\n",
       "</style>\n",
       "<table border=\"1\" class=\"dataframe\">\n",
       "  <thead>\n",
       "    <tr style=\"text-align: right;\">\n",
       "      <th></th>\n",
       "      <th>Nombre</th>\n",
       "      <th>Últ.</th>\n",
       "      <th>% Dif.</th>\n",
       "      <th>Máx.</th>\n",
       "      <th>Mín.</th>\n",
       "      <th>Volumen</th>\n",
       "      <th>Efectivo (miles €)</th>\n",
       "      <th>Fecha</th>\n",
       "      <th>Hora</th>\n",
       "    </tr>\n",
       "  </thead>\n",
       "  <tbody>\n",
       "    <tr>\n",
       "      <th>0</th>\n",
       "      <td>ACCIONA</td>\n",
       "      <td>127,2000</td>\n",
       "      <td>0,00</td>\n",
       "      <td>127,2000</td>\n",
       "      <td>127,2000</td>\n",
       "      <td>633</td>\n",
       "      <td>80,52</td>\n",
       "      <td>29/06/2021</td>\n",
       "      <td>09:00:15</td>\n",
       "    </tr>\n",
       "    <tr>\n",
       "      <th>1</th>\n",
       "      <td>ACERINOX</td>\n",
       "      <td>9,9740</td>\n",
       "      <td>0,20</td>\n",
       "      <td>9,9740</td>\n",
       "      <td>9,9740</td>\n",
       "      <td>14.330</td>\n",
       "      <td>142,93</td>\n",
       "      <td>29/06/2021</td>\n",
       "      <td>09:00:15</td>\n",
       "    </tr>\n",
       "    <tr>\n",
       "      <th>2</th>\n",
       "      <td>ACS</td>\n",
       "      <td>22,4100</td>\n",
       "      <td>0,40</td>\n",
       "      <td>22,4100</td>\n",
       "      <td>22,4100</td>\n",
       "      <td>10.256</td>\n",
       "      <td>229,84</td>\n",
       "      <td>29/06/2021</td>\n",
       "      <td>09:00:15</td>\n",
       "    </tr>\n",
       "    <tr>\n",
       "      <th>3</th>\n",
       "      <td>AENA</td>\n",
       "      <td>141,2000</td>\n",
       "      <td>-0,49</td>\n",
       "      <td>141,2000</td>\n",
       "      <td>141,2000</td>\n",
       "      <td>5.908</td>\n",
       "      <td>834,21</td>\n",
       "      <td>29/06/2021</td>\n",
       "      <td>09:00:15</td>\n",
       "    </tr>\n",
       "    <tr>\n",
       "      <th>4</th>\n",
       "      <td>ALMIRALL</td>\n",
       "      <td>14,8400</td>\n",
       "      <td>-0,40</td>\n",
       "      <td>14,8400</td>\n",
       "      <td>14,8400</td>\n",
       "      <td>922</td>\n",
       "      <td>13,68</td>\n",
       "      <td>29/06/2021</td>\n",
       "      <td>09:00:15</td>\n",
       "    </tr>\n",
       "    <tr>\n",
       "      <th>5</th>\n",
       "      <td>AMADEUS</td>\n",
       "      <td>59,4000</td>\n",
       "      <td>-3,04</td>\n",
       "      <td>59,4000</td>\n",
       "      <td>59,4000</td>\n",
       "      <td>16.597</td>\n",
       "      <td>985,86</td>\n",
       "      <td>29/06/2021</td>\n",
       "      <td>09:00:15</td>\n",
       "    </tr>\n",
       "    <tr>\n",
       "      <th>6</th>\n",
       "      <td>ARCELORMIT.</td>\n",
       "      <td>25,4750</td>\n",
       "      <td>-</td>\n",
       "      <td>-</td>\n",
       "      <td>-</td>\n",
       "      <td>-</td>\n",
       "      <td>-</td>\n",
       "      <td>28/06/2021</td>\n",
       "      <td>Cierre</td>\n",
       "    </tr>\n",
       "    <tr>\n",
       "      <th>7</th>\n",
       "      <td>B.SANTANDER</td>\n",
       "      <td>3,2625</td>\n",
       "      <td>-</td>\n",
       "      <td>-</td>\n",
       "      <td>-</td>\n",
       "      <td>-</td>\n",
       "      <td>-</td>\n",
       "      <td>28/06/2021</td>\n",
       "      <td>Cierre</td>\n",
       "    </tr>\n",
       "    <tr>\n",
       "      <th>8</th>\n",
       "      <td>BA.SABADELL</td>\n",
       "      <td>0,5770</td>\n",
       "      <td>-</td>\n",
       "      <td>-</td>\n",
       "      <td>-</td>\n",
       "      <td>-</td>\n",
       "      <td>-</td>\n",
       "      <td>28/06/2021</td>\n",
       "      <td>Cierre</td>\n",
       "    </tr>\n",
       "    <tr>\n",
       "      <th>9</th>\n",
       "      <td>BANKINTER</td>\n",
       "      <td>4,2630</td>\n",
       "      <td>-0,07</td>\n",
       "      <td>4,2630</td>\n",
       "      <td>4,2630</td>\n",
       "      <td>6.204</td>\n",
       "      <td>26,45</td>\n",
       "      <td>29/06/2021</td>\n",
       "      <td>09:00:15</td>\n",
       "    </tr>\n",
       "    <tr>\n",
       "      <th>10</th>\n",
       "      <td>BBVA</td>\n",
       "      <td>5,2770</td>\n",
       "      <td>0,00</td>\n",
       "      <td>5,2770</td>\n",
       "      <td>5,2770</td>\n",
       "      <td>130.363</td>\n",
       "      <td>687,93</td>\n",
       "      <td>29/06/2021</td>\n",
       "      <td>09:00:15</td>\n",
       "    </tr>\n",
       "    <tr>\n",
       "      <th>11</th>\n",
       "      <td>CAIXABANK</td>\n",
       "      <td>2,5850</td>\n",
       "      <td>0,04</td>\n",
       "      <td>2,5850</td>\n",
       "      <td>2,5850</td>\n",
       "      <td>59.538</td>\n",
       "      <td>153,91</td>\n",
       "      <td>29/06/2021</td>\n",
       "      <td>09:00:15</td>\n",
       "    </tr>\n",
       "    <tr>\n",
       "      <th>12</th>\n",
       "      <td>CELLNEX</td>\n",
       "      <td>54,4400</td>\n",
       "      <td>-</td>\n",
       "      <td>-</td>\n",
       "      <td>-</td>\n",
       "      <td>-</td>\n",
       "      <td>-</td>\n",
       "      <td>28/06/2021</td>\n",
       "      <td>Cierre</td>\n",
       "    </tr>\n",
       "    <tr>\n",
       "      <th>13</th>\n",
       "      <td>CIE AUTOMOT.</td>\n",
       "      <td>25,1000</td>\n",
       "      <td>0,48</td>\n",
       "      <td>25,1000</td>\n",
       "      <td>25,1000</td>\n",
       "      <td>790</td>\n",
       "      <td>19,83</td>\n",
       "      <td>29/06/2021</td>\n",
       "      <td>09:00:15</td>\n",
       "    </tr>\n",
       "    <tr>\n",
       "      <th>14</th>\n",
       "      <td>ENAGAS</td>\n",
       "      <td>19,7400</td>\n",
       "      <td>0,20</td>\n",
       "      <td>19,7400</td>\n",
       "      <td>19,7400</td>\n",
       "      <td>7.419</td>\n",
       "      <td>146,45</td>\n",
       "      <td>29/06/2021</td>\n",
       "      <td>09:00:15</td>\n",
       "    </tr>\n",
       "    <tr>\n",
       "      <th>15</th>\n",
       "      <td>ENDESA</td>\n",
       "      <td>21,2500</td>\n",
       "      <td>1,72</td>\n",
       "      <td>21,2500</td>\n",
       "      <td>21,2500</td>\n",
       "      <td>76.809</td>\n",
       "      <td>1.632,19</td>\n",
       "      <td>29/06/2021</td>\n",
       "      <td>09:00:15</td>\n",
       "    </tr>\n",
       "    <tr>\n",
       "      <th>16</th>\n",
       "      <td>FERROVIAL</td>\n",
       "      <td>25,1700</td>\n",
       "      <td>-</td>\n",
       "      <td>-</td>\n",
       "      <td>-</td>\n",
       "      <td>-</td>\n",
       "      <td>-</td>\n",
       "      <td>28/06/2021</td>\n",
       "      <td>Cierre</td>\n",
       "    </tr>\n",
       "    <tr>\n",
       "      <th>17</th>\n",
       "      <td>FLUIDRA</td>\n",
       "      <td>33,5000</td>\n",
       "      <td>-</td>\n",
       "      <td>-</td>\n",
       "      <td>-</td>\n",
       "      <td>-</td>\n",
       "      <td>-</td>\n",
       "      <td>28/06/2021</td>\n",
       "      <td>Cierre</td>\n",
       "    </tr>\n",
       "    <tr>\n",
       "      <th>18</th>\n",
       "      <td>GRIFOLS CL.A</td>\n",
       "      <td>22,8000</td>\n",
       "      <td>-0,18</td>\n",
       "      <td>22,8000</td>\n",
       "      <td>22,8000</td>\n",
       "      <td>5.162</td>\n",
       "      <td>117,69</td>\n",
       "      <td>29/06/2021</td>\n",
       "      <td>09:00:15</td>\n",
       "    </tr>\n",
       "    <tr>\n",
       "      <th>19</th>\n",
       "      <td>IAG</td>\n",
       "      <td>2,0590</td>\n",
       "      <td>-</td>\n",
       "      <td>-</td>\n",
       "      <td>-</td>\n",
       "      <td>-</td>\n",
       "      <td>-</td>\n",
       "      <td>28/06/2021</td>\n",
       "      <td>Cierre</td>\n",
       "    </tr>\n",
       "    <tr>\n",
       "      <th>20</th>\n",
       "      <td>IBERDROLA</td>\n",
       "      <td>10,3450</td>\n",
       "      <td>-</td>\n",
       "      <td>-</td>\n",
       "      <td>-</td>\n",
       "      <td>-</td>\n",
       "      <td>-</td>\n",
       "      <td>28/06/2021</td>\n",
       "      <td>Cierre</td>\n",
       "    </tr>\n",
       "    <tr>\n",
       "      <th>21</th>\n",
       "      <td>INDITEX</td>\n",
       "      <td>29,9800</td>\n",
       "      <td>-</td>\n",
       "      <td>-</td>\n",
       "      <td>-</td>\n",
       "      <td>-</td>\n",
       "      <td>-</td>\n",
       "      <td>28/06/2021</td>\n",
       "      <td>Cierre</td>\n",
       "    </tr>\n",
       "    <tr>\n",
       "      <th>22</th>\n",
       "      <td>INDRA A</td>\n",
       "      <td>7,6500</td>\n",
       "      <td>0,26</td>\n",
       "      <td>7,6500</td>\n",
       "      <td>7,6500</td>\n",
       "      <td>2.994</td>\n",
       "      <td>22,90</td>\n",
       "      <td>29/06/2021</td>\n",
       "      <td>09:00:15</td>\n",
       "    </tr>\n",
       "    <tr>\n",
       "      <th>23</th>\n",
       "      <td>INM.COLONIAL</td>\n",
       "      <td>8,5500</td>\n",
       "      <td>-0,58</td>\n",
       "      <td>8,5500</td>\n",
       "      <td>8,5500</td>\n",
       "      <td>5.355</td>\n",
       "      <td>45,79</td>\n",
       "      <td>29/06/2021</td>\n",
       "      <td>09:00:15</td>\n",
       "    </tr>\n",
       "    <tr>\n",
       "      <th>24</th>\n",
       "      <td>MAPFRE</td>\n",
       "      <td>1,7630</td>\n",
       "      <td>-0,14</td>\n",
       "      <td>1,7630</td>\n",
       "      <td>1,7630</td>\n",
       "      <td>31.028</td>\n",
       "      <td>54,70</td>\n",
       "      <td>29/06/2021</td>\n",
       "      <td>09:00:15</td>\n",
       "    </tr>\n",
       "    <tr>\n",
       "      <th>25</th>\n",
       "      <td>MELIA HOTELS</td>\n",
       "      <td>6,2520</td>\n",
       "      <td>-</td>\n",
       "      <td>-</td>\n",
       "      <td>-</td>\n",
       "      <td>-</td>\n",
       "      <td>-</td>\n",
       "      <td>28/06/2021</td>\n",
       "      <td>Cierre</td>\n",
       "    </tr>\n",
       "    <tr>\n",
       "      <th>26</th>\n",
       "      <td>MERLIN</td>\n",
       "      <td>8,7400</td>\n",
       "      <td>-</td>\n",
       "      <td>-</td>\n",
       "      <td>-</td>\n",
       "      <td>-</td>\n",
       "      <td>-</td>\n",
       "      <td>28/06/2021</td>\n",
       "      <td>Cierre</td>\n",
       "    </tr>\n",
       "    <tr>\n",
       "      <th>27</th>\n",
       "      <td>NATURGY</td>\n",
       "      <td>21,9000</td>\n",
       "      <td>-</td>\n",
       "      <td>-</td>\n",
       "      <td>-</td>\n",
       "      <td>-</td>\n",
       "      <td>-</td>\n",
       "      <td>28/06/2021</td>\n",
       "      <td>Cierre</td>\n",
       "    </tr>\n",
       "    <tr>\n",
       "      <th>28</th>\n",
       "      <td>PHARMA MAR</td>\n",
       "      <td>78,9200</td>\n",
       "      <td>-</td>\n",
       "      <td>-</td>\n",
       "      <td>-</td>\n",
       "      <td>-</td>\n",
       "      <td>-</td>\n",
       "      <td>28/06/2021</td>\n",
       "      <td>Cierre</td>\n",
       "    </tr>\n",
       "    <tr>\n",
       "      <th>29</th>\n",
       "      <td>R.E.C.</td>\n",
       "      <td>16,5150</td>\n",
       "      <td>-</td>\n",
       "      <td>-</td>\n",
       "      <td>-</td>\n",
       "      <td>-</td>\n",
       "      <td>-</td>\n",
       "      <td>28/06/2021</td>\n",
       "      <td>Cierre</td>\n",
       "    </tr>\n",
       "    <tr>\n",
       "      <th>30</th>\n",
       "      <td>REPSOL</td>\n",
       "      <td>10,6820</td>\n",
       "      <td>-</td>\n",
       "      <td>-</td>\n",
       "      <td>-</td>\n",
       "      <td>-</td>\n",
       "      <td>-</td>\n",
       "      <td>28/06/2021</td>\n",
       "      <td>Cierre</td>\n",
       "    </tr>\n",
       "    <tr>\n",
       "      <th>31</th>\n",
       "      <td>SIEMENS GAME</td>\n",
       "      <td>27,8400</td>\n",
       "      <td>-</td>\n",
       "      <td>-</td>\n",
       "      <td>-</td>\n",
       "      <td>-</td>\n",
       "      <td>-</td>\n",
       "      <td>28/06/2021</td>\n",
       "      <td>Cierre</td>\n",
       "    </tr>\n",
       "    <tr>\n",
       "      <th>32</th>\n",
       "      <td>SOLARIA</td>\n",
       "      <td>15,8000</td>\n",
       "      <td>-</td>\n",
       "      <td>-</td>\n",
       "      <td>-</td>\n",
       "      <td>-</td>\n",
       "      <td>-</td>\n",
       "      <td>28/06/2021</td>\n",
       "      <td>Cierre</td>\n",
       "    </tr>\n",
       "    <tr>\n",
       "      <th>33</th>\n",
       "      <td>TELEFONICA</td>\n",
       "      <td>3,8465</td>\n",
       "      <td>-</td>\n",
       "      <td>-</td>\n",
       "      <td>-</td>\n",
       "      <td>-</td>\n",
       "      <td>-</td>\n",
       "      <td>28/06/2021</td>\n",
       "      <td>Cierre</td>\n",
       "    </tr>\n",
       "    <tr>\n",
       "      <th>34</th>\n",
       "      <td>VISCOFAN</td>\n",
       "      <td>59,0000</td>\n",
       "      <td>-</td>\n",
       "      <td>-</td>\n",
       "      <td>-</td>\n",
       "      <td>-</td>\n",
       "      <td>-</td>\n",
       "      <td>28/06/2021</td>\n",
       "      <td>Cierre</td>\n",
       "    </tr>\n",
       "  </tbody>\n",
       "</table>\n",
       "</div>"
      ],
      "text/plain": [
       "          Nombre      Últ. % Dif.      Máx.      Mín.  Volumen  \\\n",
       "0        ACCIONA  127,2000   0,00  127,2000  127,2000      633   \n",
       "1       ACERINOX    9,9740   0,20    9,9740    9,9740   14.330   \n",
       "2            ACS   22,4100   0,40   22,4100   22,4100   10.256   \n",
       "3           AENA  141,2000  -0,49  141,2000  141,2000    5.908   \n",
       "4       ALMIRALL   14,8400  -0,40   14,8400   14,8400      922   \n",
       "5        AMADEUS   59,4000  -3,04   59,4000   59,4000   16.597   \n",
       "6    ARCELORMIT.   25,4750     -         -         -        -    \n",
       "7    B.SANTANDER    3,2625     -         -         -        -    \n",
       "8    BA.SABADELL    0,5770     -         -         -        -    \n",
       "9      BANKINTER    4,2630  -0,07    4,2630    4,2630    6.204   \n",
       "10          BBVA    5,2770   0,00    5,2770    5,2770  130.363   \n",
       "11     CAIXABANK    2,5850   0,04    2,5850    2,5850   59.538   \n",
       "12       CELLNEX   54,4400     -         -         -        -    \n",
       "13  CIE AUTOMOT.   25,1000   0,48   25,1000   25,1000      790   \n",
       "14        ENAGAS   19,7400   0,20   19,7400   19,7400    7.419   \n",
       "15        ENDESA   21,2500   1,72   21,2500   21,2500   76.809   \n",
       "16     FERROVIAL   25,1700     -         -         -        -    \n",
       "17       FLUIDRA   33,5000     -         -         -        -    \n",
       "18  GRIFOLS CL.A   22,8000  -0,18   22,8000   22,8000    5.162   \n",
       "19           IAG    2,0590     -         -         -        -    \n",
       "20     IBERDROLA   10,3450     -         -         -        -    \n",
       "21       INDITEX   29,9800     -         -         -        -    \n",
       "22       INDRA A    7,6500   0,26    7,6500    7,6500    2.994   \n",
       "23  INM.COLONIAL    8,5500  -0,58    8,5500    8,5500    5.355   \n",
       "24        MAPFRE    1,7630  -0,14    1,7630    1,7630   31.028   \n",
       "25  MELIA HOTELS    6,2520     -         -         -        -    \n",
       "26        MERLIN    8,7400     -         -         -        -    \n",
       "27       NATURGY   21,9000     -         -         -        -    \n",
       "28    PHARMA MAR   78,9200     -         -         -        -    \n",
       "29        R.E.C.   16,5150     -         -         -        -    \n",
       "30        REPSOL   10,6820     -         -         -        -    \n",
       "31  SIEMENS GAME   27,8400     -         -         -        -    \n",
       "32       SOLARIA   15,8000     -         -         -        -    \n",
       "33    TELEFONICA    3,8465     -         -         -        -    \n",
       "34      VISCOFAN   59,0000     -         -         -        -    \n",
       "\n",
       "   Efectivo (miles €)       Fecha      Hora  \n",
       "0               80,52  29/06/2021  09:00:15  \n",
       "1              142,93  29/06/2021  09:00:15  \n",
       "2              229,84  29/06/2021  09:00:15  \n",
       "3              834,21  29/06/2021  09:00:15  \n",
       "4               13,68  29/06/2021  09:00:15  \n",
       "5              985,86  29/06/2021  09:00:15  \n",
       "6                  -   28/06/2021    Cierre  \n",
       "7                  -   28/06/2021    Cierre  \n",
       "8                  -   28/06/2021    Cierre  \n",
       "9               26,45  29/06/2021  09:00:15  \n",
       "10             687,93  29/06/2021  09:00:15  \n",
       "11             153,91  29/06/2021  09:00:15  \n",
       "12                 -   28/06/2021    Cierre  \n",
       "13              19,83  29/06/2021  09:00:15  \n",
       "14             146,45  29/06/2021  09:00:15  \n",
       "15           1.632,19  29/06/2021  09:00:15  \n",
       "16                 -   28/06/2021    Cierre  \n",
       "17                 -   28/06/2021    Cierre  \n",
       "18             117,69  29/06/2021  09:00:15  \n",
       "19                 -   28/06/2021    Cierre  \n",
       "20                 -   28/06/2021    Cierre  \n",
       "21                 -   28/06/2021    Cierre  \n",
       "22              22,90  29/06/2021  09:00:15  \n",
       "23              45,79  29/06/2021  09:00:15  \n",
       "24              54,70  29/06/2021  09:00:15  \n",
       "25                 -   28/06/2021    Cierre  \n",
       "26                 -   28/06/2021    Cierre  \n",
       "27                 -   28/06/2021    Cierre  \n",
       "28                 -   28/06/2021    Cierre  \n",
       "29                 -   28/06/2021    Cierre  \n",
       "30                 -   28/06/2021    Cierre  \n",
       "31                 -   28/06/2021    Cierre  \n",
       "32                 -   28/06/2021    Cierre  \n",
       "33                 -   28/06/2021    Cierre  \n",
       "34                 -   28/06/2021    Cierre  "
      ]
     },
     "execution_count": 15,
     "metadata": {},
     "output_type": "execute_result"
    }
   ],
   "source": [
    "df"
   ]
  },
  {
   "cell_type": "code",
   "execution_count": 16,
   "id": "db038f3d",
   "metadata": {},
   "outputs": [
    {
     "data": {
      "application/javascript": [
       "\n",
       "        if (window._pyforest_update_imports_cell) { window._pyforest_update_imports_cell('import pandas as pd'); }\n",
       "    "
      ],
      "text/plain": [
       "<IPython.core.display.Javascript object>"
      ]
     },
     "metadata": {},
     "output_type": "display_data"
    },
    {
     "data": {
      "application/javascript": [
       "\n",
       "        if (window._pyforest_update_imports_cell) { window._pyforest_update_imports_cell('import pandas as pd'); }\n",
       "    "
      ],
      "text/plain": [
       "<IPython.core.display.Javascript object>"
      ]
     },
     "metadata": {},
     "output_type": "display_data"
    },
    {
     "data": {
      "application/javascript": [
       "\n",
       "        if (window._pyforest_update_imports_cell) { window._pyforest_update_imports_cell('import pandas as pd'); }\n",
       "    "
      ],
      "text/plain": [
       "<IPython.core.display.Javascript object>"
      ]
     },
     "metadata": {},
     "output_type": "display_data"
    },
    {
     "data": {
      "application/javascript": [
       "\n",
       "        if (window._pyforest_update_imports_cell) { window._pyforest_update_imports_cell('import pandas as pd'); }\n",
       "    "
      ],
      "text/plain": [
       "<IPython.core.display.Javascript object>"
      ]
     },
     "metadata": {},
     "output_type": "display_data"
    },
    {
     "data": {
      "application/javascript": [
       "\n",
       "        if (window._pyforest_update_imports_cell) { window._pyforest_update_imports_cell('import pandas as pd'); }\n",
       "    "
      ],
      "text/plain": [
       "<IPython.core.display.Javascript object>"
      ]
     },
     "metadata": {},
     "output_type": "display_data"
    },
    {
     "data": {
      "application/javascript": [
       "\n",
       "        if (window._pyforest_update_imports_cell) { window._pyforest_update_imports_cell('import pandas as pd'); }\n",
       "    "
      ],
      "text/plain": [
       "<IPython.core.display.Javascript object>"
      ]
     },
     "metadata": {},
     "output_type": "display_data"
    },
    {
     "data": {
      "application/javascript": [
       "\n",
       "        if (window._pyforest_update_imports_cell) { window._pyforest_update_imports_cell('import pandas as pd'); }\n",
       "    "
      ],
      "text/plain": [
       "<IPython.core.display.Javascript object>"
      ]
     },
     "metadata": {},
     "output_type": "display_data"
    },
    {
     "data": {
      "application/javascript": [
       "\n",
       "        if (window._pyforest_update_imports_cell) { window._pyforest_update_imports_cell('import pandas as pd'); }\n",
       "    "
      ],
      "text/plain": [
       "<IPython.core.display.Javascript object>"
      ]
     },
     "metadata": {},
     "output_type": "display_data"
    },
    {
     "data": {
      "application/javascript": [
       "\n",
       "        if (window._pyforest_update_imports_cell) { window._pyforest_update_imports_cell('import pandas as pd'); }\n",
       "    "
      ],
      "text/plain": [
       "<IPython.core.display.Javascript object>"
      ]
     },
     "metadata": {},
     "output_type": "display_data"
    },
    {
     "data": {
      "application/javascript": [
       "\n",
       "        if (window._pyforest_update_imports_cell) { window._pyforest_update_imports_cell('import pandas as pd'); }\n",
       "    "
      ],
      "text/plain": [
       "<IPython.core.display.Javascript object>"
      ]
     },
     "metadata": {},
     "output_type": "display_data"
    },
    {
     "data": {
      "application/javascript": [
       "\n",
       "        if (window._pyforest_update_imports_cell) { window._pyforest_update_imports_cell('import pandas as pd'); }\n",
       "    "
      ],
      "text/plain": [
       "<IPython.core.display.Javascript object>"
      ]
     },
     "metadata": {},
     "output_type": "display_data"
    },
    {
     "data": {
      "application/javascript": [
       "\n",
       "        if (window._pyforest_update_imports_cell) { window._pyforest_update_imports_cell('import pandas as pd'); }\n",
       "    "
      ],
      "text/plain": [
       "<IPython.core.display.Javascript object>"
      ]
     },
     "metadata": {},
     "output_type": "display_data"
    },
    {
     "data": {
      "application/javascript": [
       "\n",
       "        if (window._pyforest_update_imports_cell) { window._pyforest_update_imports_cell('import pandas as pd'); }\n",
       "    "
      ],
      "text/plain": [
       "<IPython.core.display.Javascript object>"
      ]
     },
     "metadata": {},
     "output_type": "display_data"
    },
    {
     "data": {
      "application/javascript": [
       "\n",
       "        if (window._pyforest_update_imports_cell) { window._pyforest_update_imports_cell('import pandas as pd'); }\n",
       "    "
      ],
      "text/plain": [
       "<IPython.core.display.Javascript object>"
      ]
     },
     "metadata": {},
     "output_type": "display_data"
    },
    {
     "data": {
      "application/javascript": [
       "\n",
       "        if (window._pyforest_update_imports_cell) { window._pyforest_update_imports_cell('import pandas as pd'); }\n",
       "    "
      ],
      "text/plain": [
       "<IPython.core.display.Javascript object>"
      ]
     },
     "metadata": {},
     "output_type": "display_data"
    },
    {
     "data": {
      "application/javascript": [
       "\n",
       "        if (window._pyforest_update_imports_cell) { window._pyforest_update_imports_cell('import pandas as pd'); }\n",
       "    "
      ],
      "text/plain": [
       "<IPython.core.display.Javascript object>"
      ]
     },
     "metadata": {},
     "output_type": "display_data"
    },
    {
     "data": {
      "application/javascript": [
       "\n",
       "        if (window._pyforest_update_imports_cell) { window._pyforest_update_imports_cell('import pandas as pd'); }\n",
       "    "
      ],
      "text/plain": [
       "<IPython.core.display.Javascript object>"
      ]
     },
     "metadata": {},
     "output_type": "display_data"
    },
    {
     "data": {
      "application/javascript": [
       "\n",
       "        if (window._pyforest_update_imports_cell) { window._pyforest_update_imports_cell('import pandas as pd'); }\n",
       "    "
      ],
      "text/plain": [
       "<IPython.core.display.Javascript object>"
      ]
     },
     "metadata": {},
     "output_type": "display_data"
    },
    {
     "data": {
      "application/javascript": [
       "\n",
       "        if (window._pyforest_update_imports_cell) { window._pyforest_update_imports_cell('import pandas as pd'); }\n",
       "    "
      ],
      "text/plain": [
       "<IPython.core.display.Javascript object>"
      ]
     },
     "metadata": {},
     "output_type": "display_data"
    }
   ],
   "source": [
    "# Create CSV's recursively, calls in random periods for not to block the page\n",
    "# Change range to select how many times\n",
    "\n",
    "for round in range(1, 20):\n",
    "    \n",
    "    table = get_table(round, scrap_url)\n",
    "    table.to_csv(f'../data/raw/PL_tablematchday{round}.csv', index=False)\n",
    "    sleep(np.random.randint(1, 10))"
   ]
  },
  {
   "cell_type": "code",
   "execution_count": null,
   "id": "83b45c33",
   "metadata": {},
   "outputs": [],
   "source": []
  }
 ],
 "metadata": {
  "kernelspec": {
   "display_name": "Python 3.8.5 64-bit ('base': conda)",
   "language": "python",
   "name": "python385jvsc74a57bd02c304d0744c63eb0cf275252f889b831c4efa7f5cd03bb8eb1791a6cbed8475e"
  },
  "language_info": {
   "codemirror_mode": {
    "name": "ipython",
    "version": 3
   },
   "file_extension": ".py",
   "mimetype": "text/x-python",
   "name": "python",
   "nbconvert_exporter": "python",
   "pygments_lexer": "ipython3",
   "version": "3.8.5"
  }
 },
 "nbformat": 4,
 "nbformat_minor": 5
}
